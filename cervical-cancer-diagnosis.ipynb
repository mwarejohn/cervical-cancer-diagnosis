{
 "cells": [
  {
   "cell_type": "code",
   "execution_count": 1,
   "id": "da7e43e7",
   "metadata": {},
   "outputs": [],
   "source": [
    "# pip install keras-tuner"
   ]
  },
  {
   "cell_type": "markdown",
   "id": "842acad9",
   "metadata": {},
   "source": [
    "## Essential libraries and modules.\n",
    "\n",
    "This project uses the following modules/libraries. <br>\n",
    "- datetime, shutil, os for files and system operations\n",
    "- Pandas and numpy for data manipulation.\n",
    "- sklearn.model_selection, sklearn.metrics for machine learning and model evaluation.\n",
    "- matplotlib.pyplot and seaborn (sns) for visualization.\n",
    "- tensorflow.keras APIs and modules for building and training the CNN model.\n",
    "- keras_tuner for optimizing the model's hyperparameters.\n",
    "- random to maintain reproducibility of experiments."
   ]
  },
  {
   "cell_type": "code",
   "execution_count": 2,
   "id": "cd65b5f0",
   "metadata": {},
   "outputs": [
    {
     "name": "stderr",
     "output_type": "stream",
     "text": [
      "/var/folders/mn/l_yfj1_57wj54hlcqkxgxysh0000gn/T/ipykernel_31993/2943324566.py:17: DeprecationWarning: `import kerastuner` is deprecated, please use `import keras_tuner`.\n",
      "  from kerastuner import HyperModel\n"
     ]
    }
   ],
   "source": [
    "from datetime import datetime\n",
    "import shutil\n",
    "import os\n",
    "\n",
    "import pandas as pd\n",
    "import numpy as np\n",
    "\n",
    "from sklearn.model_selection import train_test_split\n",
    "from sklearn.metrics import classification_report, confusion_matrix\n",
    "\n",
    "import matplotlib.pyplot as plt\n",
    "import seaborn as sns\n",
    "\n",
    "from tensorflow.keras.preprocessing.image import ImageDataGenerator\n",
    "from tensorflow.keras.models import Sequential\n",
    "from tensorflow.keras.layers import Conv2D, MaxPooling2D, Flatten, Dense, Dropout, BatchNormalization, Input\n",
    "from kerastuner import HyperModel\n",
    "from tensorflow.keras.optimizers import Adam\n",
    "from keras_tuner.tuners  import RandomSearch\n",
    "from tensorflow.keras.callbacks import EarlyStopping, CSVLogger\n",
    "from keras_tuner import HyperModel\n",
    "\n",
    "import torch\n",
    "import random\n",
    "\n",
    "# Set randomness for reproducibility\n",
    "torch.manual_seed(42)\n",
    "random.seed(42)\n",
    "np.random.seed(42)\n"
   ]
  },
  {
   "cell_type": "markdown",
   "id": "9da46516",
   "metadata": {},
   "source": [
    "## Load data\n",
    "\n",
    "We first load the classification data from a CSV file into a pandas DataFrame and set the directory path for the associated images. <br>\n",
    "The CSV file, named \"**classifications.csv**\" includes two key columns; **image_filename**, which lists the names of image files, and **bethesda_system**, which contains image labels categorized into the following six classes: \n",
    "- ASC-US - Negative for intraepithelial lesion.\n",
    "- ASC-H - Atypical squamous cells of undetermined significance.\n",
    "- LSIL - Atypical squamous cells cannot exclude HSIL.\n",
    "- HSIL - Low grade squamous intraepithelial lesion.\n",
    "- SCC - High grade squamous intraepithelial lesion. <br>\n",
    "    \n",
    "The images corresponding to these classifications are stored separately in a directory named \"**images**\"."
   ]
  },
  {
   "cell_type": "code",
   "execution_count": 3,
   "id": "8a0ee7da",
   "metadata": {},
   "outputs": [],
   "source": [
    "# Load dataset\n",
    "data_path = 'data/classifications.csv'\n",
    "data = pd.read_csv(data_path)\n",
    "\n",
    "# Directory where images are stored\n",
    "image_dir = 'data/images/'\n"
   ]
  },
  {
   "cell_type": "code",
   "execution_count": 32,
   "id": "11b62344",
   "metadata": {},
   "outputs": [
    {
     "name": "stdout",
     "output_type": "stream",
     "text": [
      "<class 'pandas.core.frame.DataFrame'>\n",
      "RangeIndex: 11534 entries, 0 to 11533\n",
      "Data columns (total 7 columns):\n",
      " #   Column           Non-Null Count  Dtype \n",
      "---  ------           --------------  ----- \n",
      " 0   image_id         11534 non-null  int64 \n",
      " 1   image_filename   11534 non-null  object\n",
      " 2   image_doi        11534 non-null  object\n",
      " 3   cell_id          11534 non-null  int64 \n",
      " 4   bethesda_system  11534 non-null  object\n",
      " 5   nucleus_x        11534 non-null  int64 \n",
      " 6   nucleus_y        11534 non-null  int64 \n",
      "dtypes: int64(4), object(3)\n",
      "memory usage: 630.9+ KB\n"
     ]
    }
   ],
   "source": [
    "data.info()"
   ]
  },
  {
   "cell_type": "code",
   "execution_count": 33,
   "id": "29a45208",
   "metadata": {},
   "outputs": [
    {
     "data": {
      "text/html": [
       "<div>\n",
       "<style scoped>\n",
       "    .dataframe tbody tr th:only-of-type {\n",
       "        vertical-align: middle;\n",
       "    }\n",
       "\n",
       "    .dataframe tbody tr th {\n",
       "        vertical-align: top;\n",
       "    }\n",
       "\n",
       "    .dataframe thead th {\n",
       "        text-align: right;\n",
       "    }\n",
       "</style>\n",
       "<table border=\"1\" class=\"dataframe\">\n",
       "  <thead>\n",
       "    <tr style=\"text-align: right;\">\n",
       "      <th></th>\n",
       "      <th>image_filename</th>\n",
       "      <th>bethesda_system</th>\n",
       "    </tr>\n",
       "  </thead>\n",
       "  <tbody>\n",
       "    <tr>\n",
       "      <th>0</th>\n",
       "      <td>9ae8a4edde40219bad6303cebc672ee4.png</td>\n",
       "      <td>SCC</td>\n",
       "    </tr>\n",
       "    <tr>\n",
       "      <th>1</th>\n",
       "      <td>9ae8a4edde40219bad6303cebc672ee4.png</td>\n",
       "      <td>SCC</td>\n",
       "    </tr>\n",
       "    <tr>\n",
       "      <th>2</th>\n",
       "      <td>9ae8a4edde40219bad6303cebc672ee4.png</td>\n",
       "      <td>SCC</td>\n",
       "    </tr>\n",
       "    <tr>\n",
       "      <th>3</th>\n",
       "      <td>9ae8a4edde40219bad6303cebc672ee4.png</td>\n",
       "      <td>SCC</td>\n",
       "    </tr>\n",
       "    <tr>\n",
       "      <th>4</th>\n",
       "      <td>9ae8a4edde40219bad6303cebc672ee4.png</td>\n",
       "      <td>Negative for intraepithelial lesion</td>\n",
       "    </tr>\n",
       "  </tbody>\n",
       "</table>\n",
       "</div>"
      ],
      "text/plain": [
       "                         image_filename                      bethesda_system\n",
       "0  9ae8a4edde40219bad6303cebc672ee4.png                                  SCC\n",
       "1  9ae8a4edde40219bad6303cebc672ee4.png                                  SCC\n",
       "2  9ae8a4edde40219bad6303cebc672ee4.png                                  SCC\n",
       "3  9ae8a4edde40219bad6303cebc672ee4.png                                  SCC\n",
       "4  9ae8a4edde40219bad6303cebc672ee4.png  Negative for intraepithelial lesion"
      ]
     },
     "execution_count": 33,
     "metadata": {},
     "output_type": "execute_result"
    }
   ],
   "source": [
    "data[[\"image_filename\", \"bethesda_system\"]].head(5)"
   ]
  },
  {
   "cell_type": "markdown",
   "id": "80253df6",
   "metadata": {},
   "source": [
    "## Explore Class Distribution <br>\n",
    "\n",
    "We explored the bethesda_system column which contains the image labels to check data distribution. <br>\n",
    "\n",
    "The original class distribution appears to be highly imbalanced, with the \"**Negative for intraepithelial lesion**\" category dominating the dataset. <br>\n",
    "\n",
    "To address this imbalance and reduce potential model bias, a **resampling technique** was applied, resulting in a uniform distribution of classes. <br>\n",
    "\n",
    "The side-by-side bar plots visually demonstrate the results of the resampling technique in achieving class balance, an essential step in ensuring our CNN model will generalize well across all classes.\n"
   ]
  },
  {
   "cell_type": "code",
   "execution_count": 4,
   "id": "86d59ae1",
   "metadata": {},
   "outputs": [
    {
     "name": "stdout",
     "output_type": "stream",
     "text": [
      "Original Class Distribution:\n",
      "Negative for intraepithelial lesion    6779\n",
      "HSIL                                   1703\n",
      "LSIL                                   1360\n",
      "ASC-H                                   925\n",
      "ASC-US                                  606\n",
      "SCC                                     161\n",
      "Name: bethesda_system, dtype: int64\n",
      "\n",
      "Resampled Class Distribution:\n",
      "SCC                                    6779\n",
      "Negative for intraepithelial lesion    6779\n",
      "LSIL                                   6779\n",
      "HSIL                                   6779\n",
      "ASC-H                                  6779\n",
      "ASC-US                                 6779\n",
      "Name: bethesda_system, dtype: int64\n"
     ]
    },
    {
     "data": {
      "image/png": "[encoded data removed]",
      "text/plain": [
       "<Figure size 1500x500 with 2 Axes>"
      ]
     },
     "metadata": {},
     "output_type": "display_data"
    }
   ],
   "source": [
    "# Calculate the class distribution for the original dataset\n",
    "original_class_distribution = data['bethesda_system'].value_counts()\n",
    "\n",
    "# Display Original class distribution counts\n",
    "print(\"Original Class Distribution:\")\n",
    "print(original_class_distribution)\n",
    "\n",
    "# Oversample all classes to the count of the majority class\n",
    "max_size = original_class_distribution.max()\n",
    "\n",
    "lst = [data]\n",
    "for class_index, group in data.groupby('bethesda_system'):\n",
    "    lst.append(group.sample(max_size-len(group), replace=True))\n",
    "resampled_data = pd.concat(lst)\n",
    "\n",
    "# Calculate the class distribution for the resampled dataset\n",
    "resampled_class_distribution = resampled_data['bethesda_system'].value_counts()\n",
    "\n",
    "# Display resampled class distribution counts\n",
    "print(\"\\nResampled Class Distribution:\")\n",
    "print(resampled_class_distribution)\n",
    "\n",
    "\n",
    "# Class distributions before and after resampling\n",
    "fig, axs = plt.subplots(nrows=1, ncols=2, figsize=(15, 5), sharey=True)\n",
    "\n",
    "# Original class distribution plot\n",
    "axs[0].bar(original_class_distribution.index, original_class_distribution.values, color='blue')\n",
    "axs[0].set_title('Original Class Distribution')\n",
    "axs[0].set_xlabel('Class')\n",
    "axs[0].set_ylabel('Number of samples')\n",
    "axs[0].tick_params(axis='x', rotation=45)\n",
    "\n",
    "# Resampled class distribution plot\n",
    "axs[1].bar(resampled_class_distribution.index, resampled_class_distribution.values, color='orange')\n",
    "axs[1].set_title('Resampled Class Distribution')\n",
    "axs[1].set_xlabel('Class')\n",
    "axs[1].tick_params(axis='x', rotation=45)\n",
    "\n",
    "plt.tight_layout()\n",
    "plt.show()\n",
    "\n"
   ]
  },
  {
   "cell_type": "code",
   "execution_count": 31,
   "id": "74dbb9a9",
   "metadata": {},
   "outputs": [
    {
     "data": {
      "image/png": "[encoded data removed]",
      "text/plain": [
       "<Figure size 800x600 with 1 Axes>"
      ]
     },
     "metadata": {},
     "output_type": "display_data"
    }
   ],
   "source": [
    "# Original class distribution plot for reporting purpose.\n",
    "plt.figure(figsize=(8, 6))  # Adjust the figure size as needed\n",
    "sns.barplot(x=original_class_distribution.index, y=original_class_distribution.values)\n",
    "plt.title('Class Distribution')\n",
    "plt.xlabel('Class')\n",
    "plt.ylabel('Number of Samples')\n",
    "plt.xticks(rotation=45)  # Rotate class labels for better visibility\n",
    "plt.tight_layout()\n",
    "plt.show()"
   ]
  },
  {
   "cell_type": "markdown",
   "id": "d4cd2c29",
   "metadata": {},
   "source": [
    "## Split data\n",
    "\n",
    "The resampled dataset is initially partitioned into a training and a test set using an 80/20 split. <br>\n",
    "This means 80% of the data is used for training the model, and the remaining 20% is set aside to test the model's performance on unseen data. <br>\n",
    "The **train_test_split function** from the **sklearn.model_selection module** is used with a **random_state** set to 42 to ensure reproducibility of the split. <br>\n",
    "\n",
    "The training set is further divided into a new training set and a validation set, using 80/20 split. <br>\n",
    "The validation set is used during the model training process to evaluate the model's performance on a subset of data that it hasn't been trained on, allowing for hyperparameter tuning and prevention of overfitting. <br>\n",
    "The random_state is kept consistent at 42 for this split as well, maintaining the same level of reproducibility.\n"
   ]
  },
  {
   "cell_type": "code",
   "execution_count": 5,
   "id": "bd9dc18a",
   "metadata": {},
   "outputs": [
    {
     "name": "stdout",
     "output_type": "stream",
     "text": [
      "train_df: (26031, 7)\n",
      "\n",
      "test_df: (8135, 7)\n",
      "\n",
      "val_df: (6508, 7)\n"
     ]
    }
   ],
   "source": [
    "# Split the data into training and test set using 80/20 ratio\n",
    "train_df, test_df = train_test_split(resampled_data, test_size=0.2, random_state=42)\n",
    "\n",
    "# Further split the training data into training and validation sets (80/20 split)\n",
    "train_df, val_df = train_test_split(train_df, test_size=0.2, random_state=42)\n",
    "\n",
    "print(\"train_df:\", train_df.shape)\n",
    "print(\"\\ntest_df:\", test_df.shape)\n",
    "print(\"\\nval_df:\", val_df.shape)"
   ]
  },
  {
   "cell_type": "markdown",
   "id": "36caf866",
   "metadata": {},
   "source": [
    "## Data preprocessing\n",
    "\n",
    "The pixel values of images for training, validation, and testing are normalized by rescaling them by 1./255, which changes the pixel's range from [0, 255] to [0, 1]. This step is necessary for effective training as it helps in faster convergence of the model. <br>\n",
    "\n",
    "We already split the dataset into separate training, validation and test sets. <br>\n",
    "\n",
    "The **flow_from_dataframe** method of the **ImageDataGenerator** class is used to load image paths and labels from a pandas DataFrame, with images stored on the disk. This method creates a pipeline that feeds image data in batches to the CNN model directly from the disk, enhancing memory efficiency during model training. <br>\n",
    "\n",
    "The training and validation generators feeds the images in batches to the CNN model during the fit process, allowing us to validate the CNN model on the validation subset during the training phase. <br>\n",
    "\n",
    "The test generator is set up similarly but without shuffling, to maintain the order of the images, which is crucial for the evaluation phase to ensure correspondence between the predicted outputs and the true labels. <br>\n",
    "\n",
    "The main goal of this section is to establish an efficient pipeline that dynamically loads batches of image data directly from the disk into the model, reducing memory overhead, normalizing images to facilitate training, and setting aside data for model validation and testing.\n"
   ]
  },
  {
   "cell_type": "code",
   "execution_count": 6,
   "id": "1fddae71",
   "metadata": {},
   "outputs": [
    {
     "name": "stdout",
     "output_type": "stream",
     "text": [
      "Found 26031 validated image filenames belonging to 6 classes.\n",
      "Found 6508 validated image filenames belonging to 6 classes.\n",
      "Found 8135 validated image filenames belonging to 6 classes.\n"
     ]
    }
   ],
   "source": [
    "# Modify image target size\n",
    "image_target_size = (75, 75)\n",
    "\n",
    "# Initialize ImageDataGenerators\n",
    "train_datagen = ImageDataGenerator(rescale=1./255)\n",
    "\n",
    "# Validation Data Generator\n",
    "validation_datagen = ImageDataGenerator(rescale=1./255)\n",
    "\n",
    "# Test Data Generator\n",
    "test_datagen = ImageDataGenerator(rescale=1./255)\n",
    "\n",
    "\n",
    "# Training generator\n",
    "train_generator = train_datagen.flow_from_dataframe(\n",
    "    dataframe=train_df,\n",
    "    directory=image_dir,\n",
    "    x_col='image_filename',\n",
    "    y_col='bethesda_system',\n",
    "    target_size=image_target_size,\n",
    "    batch_size=128,\n",
    "    class_mode='categorical'\n",
    ")\n",
    "\n",
    "# Validation generator\n",
    "validation_generator = validation_datagen.flow_from_dataframe(\n",
    "    dataframe=val_df,\n",
    "    directory=image_dir,\n",
    "    x_col='image_filename',\n",
    "    y_col='bethesda_system',\n",
    "    target_size=image_target_size,\n",
    "    batch_size=128,\n",
    "    class_mode='categorical'\n",
    ")\n",
    "\n",
    "# Test generator\n",
    "test_generator = test_datagen.flow_from_dataframe(\n",
    "    dataframe=test_df,\n",
    "    directory=image_dir,\n",
    "    x_col='image_filename',\n",
    "    y_col='bethesda_system',\n",
    "    target_size=image_target_size,\n",
    "    batch_size=128,\n",
    "    class_mode='categorical',\n",
    "    shuffle=False\n",
    ")"
   ]
  },
  {
   "cell_type": "markdown",
   "id": "2f562d48",
   "metadata": {},
   "source": [
    "## Defining CNN Model\n",
    "\n",
    "The **CNNHyperModel** class encapsulates the architecture of the CNN model for the purpose of hyperparameter optimization using Keras Tuner. The class extends the **HyperModel** class from **Keras Tuner**, allowing the definition of a range of hyperparameters to be selected during the tuning process.\n",
    "\n",
    "The **input_shape** attribute specifies the dimensions of the input images that the CNN will process, and essentially used to configure the input layer of the network.\n",
    "\n",
    "The **num_classes** variable indicates the total number of distinct classes that the model will predict, used in the output layer to determine the size of the softmax distribution across these classes. <br>\n",
    "\n",
    "The **build** method dynamically constructs the CNN model with its architecture defined by hyperparameters which are determined during the tuning phase. <br>\n",
    "\n",
    "**Model Architecture:** <br>\n",
    "**Convolutional Layers:** The first convolutional layer defines number of filters ranging from 16 to 64. Three additional convolutional layers that double in filter count, capped at 128. The kernel size for these layers is fixed at 3×3, and the activation function is chosen from ['relu', 'tanh']. <br>\n",
    "\n",
    "**Pooling Layers:** For each convolutional layer except the last, the model has a max pooling layer with a pool size of 2×2 which serves to downsample the feature maps, reducing the computational complexity and helping to mitigate overfitting. <br>\n",
    "\n",
    "**Flattening:** The Flatten layer converts the 2D feature maps into a 1D feature vector, making it possible to connect convolutional layers to dense layers. <br>\n",
    "\n",
    "**Dense Layer:** A dense or fully connected layer with a tunable number of units (ranging from 64 to 256) follows, which learns global patterns from the flattened feature vectors. <br>\n",
    "\n",
    "**Dropout:** A Dropout layer with a tunable rate (between 0.3 and 0.7) is used to reduce overfitting by randomly setting a fraction of input units to 0 at each update during training. <br>\n",
    "\n",
    "**Output Layer:** The final layer is a dense layer with units equal to the number of output classes and uses the softmax activation function to yield a probability distribution over these classes. <br>\n",
    "\n",
    "**Compilation:** <br>\n",
    "The model is compiled with the Adam optimizer, and a learning rate that undergoes logarithmic sampling between 0.0001 and 0.01 for optimization. <br>\n",
    "\n",
    "The model uses **categorical_crossentropy** loss function because we are dealing with multi-class classification problem. <br>\n",
    "\n",
    "**accuracy** metric is used to evaluate the overall model performance. <br>\n",
    "\n",
    "The structured approach allows evaluation of different hyperparameter combinations to optimize model performance."
   ]
  },
  {
   "cell_type": "code",
   "execution_count": 8,
   "id": "21a23497",
   "metadata": {},
   "outputs": [],
   "source": [
    "class CNNHyperModel(HyperModel):\n",
    "    def __init__(self, input_shape, num_classes):\n",
    "        self.input_shape = input_shape\n",
    "        self.num_classes = num_classes\n",
    "    \n",
    "    def build(self, hp):\n",
    "        model = Sequential()\n",
    "        \n",
    "        # Input layer to define the input shape\n",
    "        model.add(Input(shape=self.input_shape)) \n",
    "        \n",
    "        # First convolutional layer\n",
    "        filters = hp.Int('initial_filters', min_value=16, max_value=64, step=16)\n",
    "        model.add(Conv2D(filters=filters, kernel_size=(3, 3), activation=hp.Choice('activation', ['relu', 'tanh']), padding='same'))\n",
    "        model.add(MaxPooling2D(pool_size=(2, 2)))\n",
    "        model.add(BatchNormalization())\n",
    "\n",
    "        # Three Additional convolutional layers\n",
    "        for i in range(2, 5):\n",
    "            filters *= 2\n",
    "            filters = min(filters, 128)\n",
    "            model.add(Conv2D(filters=filters, kernel_size=(3, 3), activation=hp.Choice('activation', ['relu', 'tanh']), padding='same'))\n",
    "            if i < 4:\n",
    "                model.add(MaxPooling2D(pool_size=(2, 2)))\n",
    "            model.add(BatchNormalization())\n",
    "\n",
    "        # Flattening to a 1D vector\n",
    "        model.add(Flatten())\n",
    "        \n",
    "        # Dense layer\n",
    "        model.add(Dense(units=hp.Int('units', min_value=64, max_value=256, step=64), activation=hp.Choice('activation', ['relu', 'tanh'])))\n",
    "        model.add(Dropout(rate=hp.Float('dropout', min_value=0.3, max_value=0.7, step=0.1)))\n",
    "        \n",
    "        # Output layer\n",
    "        model.add(Dense(self.num_classes, activation='softmax'))\n",
    "        \n",
    "        # Compile the model\n",
    "        model.compile(\n",
    "            optimizer=Adam(learning_rate=hp.Float('learning_rate', min_value=1e-4, max_value=1e-2, sampling='LOG')),\n",
    "            loss='categorical_crossentropy',\n",
    "            metrics=['accuracy']\n",
    "        )\n",
    "        \n",
    "        return model\n"
   ]
  },
  {
   "cell_type": "markdown",
   "id": "71f02bde",
   "metadata": {},
   "source": [
    "## Hyperparameters tuning\n",
    "\n",
    "This section ocovers the hyperparameter tuning process for the CNN model. <br>\n",
    "The essential variables are difined which include; the number of steps per epoch, the maximum number of trials, and the number of epochs for training. <br>\n",
    "The CNNHyperModel class is instantiated with the resized input shape of the images of 75×75 pixels with 3 channels (RGB), and the number of output classes derived from the training data generator which is equivalent to 6. <br>\n",
    "\n",
    "A **RandomSearch** tuner is initialized with the objective set to maximize validation accuracy. The serach is limited to a single trial (**max_trial = 1**). This can be increased, but this leads to higher execution time. Each trial executes once (**executions_per_trial=1**) to find the best model configuration within the defined search space. <br>\n",
    "\n",
    "The **EarlyStopping** callback is used to stop the training if the validation loss does not improve for five consecutive epochs (**patience=5**), enhancing computational efficiency and preventing overfitting. <br>\n",
    "\n",
    "The **tuner.search** method then executes the tuning process, utilizing the training and validation data generators, and follows to the predefined number of steps per epoch. <br>\n",
    "\n",
    "The best hyperparameters shows that the optimal configuration in this single trial consists of 64 initial filters, relu activation function, 256 dense layer units, a dropout rate of 0.4, and a learning rate of approximately 0.00028. <br>\n",
    "\n",
    "The hyperparameter tuning directory **hyperparam_tuning** is cleared for each tuning session to avoid conflicts with previous tuning results. Additionally, the project name, dynamically generated with a timestamp, ensures uniqueness and ease of result retrieval for each session.\n",
    "\n",
    "\n"
   ]
  },
  {
   "cell_type": "code",
   "execution_count": 9,
   "id": "f5044987",
   "metadata": {},
   "outputs": [
    {
     "name": "stdout",
     "output_type": "stream",
     "text": [
      "Trial 1 Complete [01h 35m 28s]\n",
      "val_accuracy: 0.6150891184806824\n",
      "\n",
      "Best val_accuracy So Far: 0.6150891184806824\n",
      "Total elapsed time: 01h 35m 28s\n",
      "\n",
      "Best Hyperparameters : \n",
      "\n",
      "initial_filters: 64\n",
      "activation: relu\n",
      "units: 256\n",
      "dropout: 0.4\n",
      "learning_rate: 0.00028228483297071025\n"
     ]
    }
   ],
   "source": [
    "# Variables \n",
    "no_steps_per_epoch = 64\n",
    "max_trial = 1\n",
    "epoch = 10\n",
    "\n",
    "# Use timestamp to create a unique project name for each search session\n",
    "timestamp = datetime.now().strftime(\"%Y%m%d-%H%M%S\")\n",
    "project_name = f\"cervix_classification_{timestamp}\"\n",
    "\n",
    "# Clear the hyperparameter tuning directory for each session\n",
    "tuning_dir = 'hyperparam_tuning'\n",
    "if os.path.exists(tuning_dir):\n",
    "    shutil.rmtree(tuning_dir)\n",
    "    \n",
    "# Define the hypermodel\n",
    "hypermodel = CNNHyperModel(input_shape=(75, 75, 3), num_classes=len(train_generator.class_indices))\n",
    "\n",
    "# Initialize the tuner\n",
    "tuner = RandomSearch(\n",
    "    hypermodel,\n",
    "    objective='val_accuracy',\n",
    "    max_trials=max_trial,\n",
    "    executions_per_trial=1,\n",
    "    directory=tuning_dir,\n",
    "    project_name=project_name\n",
    ")\n",
    "\n",
    "# Early stopping to prevent overfitting\n",
    "early_stopping = EarlyStopping(monitor='val_loss', patience=5, verbose=1)\n",
    "\n",
    "# Perform hyperparameter tuning\n",
    "tuner.search(train_generator, \n",
    "             epochs=epoch, \n",
    "             validation_data=validation_generator,\n",
    "             steps_per_epoch=no_steps_per_epoch)\n",
    "\n",
    "# Fetch the best performing hyperparameters\n",
    "best_hps = tuner.get_best_hyperparameters(num_trials=1)[0]\n",
    "\n",
    "# Display the best hyperparameter values\n",
    "print(\"\\nBest Hyperparameters : \\n\")\n",
    "for hp in best_hps.space:\n",
    "    print(f\"{hp.name}: {best_hps.get(hp.name)}\")\n",
    "\n"
   ]
  },
  {
   "cell_type": "code",
   "execution_count": 41,
   "id": "13300d7c",
   "metadata": {},
   "outputs": [
    {
     "name": "stdout",
     "output_type": "stream",
     "text": [
      "Results summary\n",
      "Results in hyperparam_tuning/cervix_classification_20240408-211149\n",
      "Showing 10 best trials\n",
      "Objective(name=\"val_accuracy\", direction=\"max\")\n",
      "\n",
      "Trial 0 summary\n",
      "Hyperparameters:\n",
      "initial_filters: 64\n",
      "activation: relu\n",
      "units: 256\n",
      "dropout: 0.4\n",
      "learning_rate: 0.00028228483297071025\n",
      "Score: 0.6150891184806824\n"
     ]
    }
   ],
   "source": [
    "# Print a summary of the hyperparameter search results\n",
    "tuner.results_summary()"
   ]
  },
  {
   "cell_type": "code",
   "execution_count": 38,
   "id": "2fab11b9",
   "metadata": {},
   "outputs": [
    {
     "name": "stdout",
     "output_type": "stream",
     "text": [
      "\n",
      "Model Architecture:\n",
      "\n"
     ]
    },
    {
     "data": {
      "text/html": [
       "<pre style=\"white-space:pre;overflow-x:auto;line-height:normal;font-family:Menlo,'DejaVu Sans Mono',consolas,'Courier New',monospace\"><span style=\"font-weight: bold\">Model: \"sequential\"</span>\n",
       "</pre>\n"
      ],
      "text/plain": [
       "\u001b[1mModel: \"sequential\"\u001b[0m\n"
      ]
     },
     "metadata": {},
     "output_type": "display_data"
    },
    {
     "data": {
      "text/html": [
       "<pre style=\"white-space:pre;overflow-x:auto;line-height:normal;font-family:Menlo,'DejaVu Sans Mono',consolas,'Courier New',monospace\">┏━━━━━━━━━━━━━━━━━━━━━━━━━━━━━━━━━┳━━━━━━━━━━━━━━━━━━━━━━━━┳━━━━━━━━━━━━━━━┓\n",
       "┃<span style=\"font-weight: bold\"> Layer (type)                    </span>┃<span style=\"font-weight: bold\"> Output Shape           </span>┃<span style=\"font-weight: bold\">       Param # </span>┃\n",
       "┡━━━━━━━━━━━━━━━━━━━━━━━━━━━━━━━━━╇━━━━━━━━━━━━━━━━━━━━━━━━╇━━━━━━━━━━━━━━━┩\n",
       "│ conv2d (<span style=\"color: #0087ff; text-decoration-color: #0087ff\">Conv2D</span>)                 │ (<span style=\"color: #00d7ff; text-decoration-color: #00d7ff\">None</span>, <span style=\"color: #00af00; text-decoration-color: #00af00\">75</span>, <span style=\"color: #00af00; text-decoration-color: #00af00\">75</span>, <span style=\"color: #00af00; text-decoration-color: #00af00\">64</span>)     │         <span style=\"color: #00af00; text-decoration-color: #00af00\">1,792</span> │\n",
       "├─────────────────────────────────┼────────────────────────┼───────────────┤\n",
       "│ max_pooling2d (<span style=\"color: #0087ff; text-decoration-color: #0087ff\">MaxPooling2D</span>)    │ (<span style=\"color: #00d7ff; text-decoration-color: #00d7ff\">None</span>, <span style=\"color: #00af00; text-decoration-color: #00af00\">37</span>, <span style=\"color: #00af00; text-decoration-color: #00af00\">37</span>, <span style=\"color: #00af00; text-decoration-color: #00af00\">64</span>)     │             <span style=\"color: #00af00; text-decoration-color: #00af00\">0</span> │\n",
       "├─────────────────────────────────┼────────────────────────┼───────────────┤\n",
       "│ batch_normalization             │ (<span style=\"color: #00d7ff; text-decoration-color: #00d7ff\">None</span>, <span style=\"color: #00af00; text-decoration-color: #00af00\">37</span>, <span style=\"color: #00af00; text-decoration-color: #00af00\">37</span>, <span style=\"color: #00af00; text-decoration-color: #00af00\">64</span>)     │           <span style=\"color: #00af00; text-decoration-color: #00af00\">256</span> │\n",
       "│ (<span style=\"color: #0087ff; text-decoration-color: #0087ff\">BatchNormalization</span>)            │                        │               │\n",
       "├─────────────────────────────────┼────────────────────────┼───────────────┤\n",
       "│ conv2d_1 (<span style=\"color: #0087ff; text-decoration-color: #0087ff\">Conv2D</span>)               │ (<span style=\"color: #00d7ff; text-decoration-color: #00d7ff\">None</span>, <span style=\"color: #00af00; text-decoration-color: #00af00\">37</span>, <span style=\"color: #00af00; text-decoration-color: #00af00\">37</span>, <span style=\"color: #00af00; text-decoration-color: #00af00\">128</span>)    │        <span style=\"color: #00af00; text-decoration-color: #00af00\">73,856</span> │\n",
       "├─────────────────────────────────┼────────────────────────┼───────────────┤\n",
       "│ max_pooling2d_1 (<span style=\"color: #0087ff; text-decoration-color: #0087ff\">MaxPooling2D</span>)  │ (<span style=\"color: #00d7ff; text-decoration-color: #00d7ff\">None</span>, <span style=\"color: #00af00; text-decoration-color: #00af00\">18</span>, <span style=\"color: #00af00; text-decoration-color: #00af00\">18</span>, <span style=\"color: #00af00; text-decoration-color: #00af00\">128</span>)    │             <span style=\"color: #00af00; text-decoration-color: #00af00\">0</span> │\n",
       "├─────────────────────────────────┼────────────────────────┼───────────────┤\n",
       "│ batch_normalization_1           │ (<span style=\"color: #00d7ff; text-decoration-color: #00d7ff\">None</span>, <span style=\"color: #00af00; text-decoration-color: #00af00\">18</span>, <span style=\"color: #00af00; text-decoration-color: #00af00\">18</span>, <span style=\"color: #00af00; text-decoration-color: #00af00\">128</span>)    │           <span style=\"color: #00af00; text-decoration-color: #00af00\">512</span> │\n",
       "│ (<span style=\"color: #0087ff; text-decoration-color: #0087ff\">BatchNormalization</span>)            │                        │               │\n",
       "├─────────────────────────────────┼────────────────────────┼───────────────┤\n",
       "│ conv2d_2 (<span style=\"color: #0087ff; text-decoration-color: #0087ff\">Conv2D</span>)               │ (<span style=\"color: #00d7ff; text-decoration-color: #00d7ff\">None</span>, <span style=\"color: #00af00; text-decoration-color: #00af00\">18</span>, <span style=\"color: #00af00; text-decoration-color: #00af00\">18</span>, <span style=\"color: #00af00; text-decoration-color: #00af00\">128</span>)    │       <span style=\"color: #00af00; text-decoration-color: #00af00\">147,584</span> │\n",
       "├─────────────────────────────────┼────────────────────────┼───────────────┤\n",
       "│ max_pooling2d_2 (<span style=\"color: #0087ff; text-decoration-color: #0087ff\">MaxPooling2D</span>)  │ (<span style=\"color: #00d7ff; text-decoration-color: #00d7ff\">None</span>, <span style=\"color: #00af00; text-decoration-color: #00af00\">9</span>, <span style=\"color: #00af00; text-decoration-color: #00af00\">9</span>, <span style=\"color: #00af00; text-decoration-color: #00af00\">128</span>)      │             <span style=\"color: #00af00; text-decoration-color: #00af00\">0</span> │\n",
       "├─────────────────────────────────┼────────────────────────┼───────────────┤\n",
       "│ batch_normalization_2           │ (<span style=\"color: #00d7ff; text-decoration-color: #00d7ff\">None</span>, <span style=\"color: #00af00; text-decoration-color: #00af00\">9</span>, <span style=\"color: #00af00; text-decoration-color: #00af00\">9</span>, <span style=\"color: #00af00; text-decoration-color: #00af00\">128</span>)      │           <span style=\"color: #00af00; text-decoration-color: #00af00\">512</span> │\n",
       "│ (<span style=\"color: #0087ff; text-decoration-color: #0087ff\">BatchNormalization</span>)            │                        │               │\n",
       "├─────────────────────────────────┼────────────────────────┼───────────────┤\n",
       "│ conv2d_3 (<span style=\"color: #0087ff; text-decoration-color: #0087ff\">Conv2D</span>)               │ (<span style=\"color: #00d7ff; text-decoration-color: #00d7ff\">None</span>, <span style=\"color: #00af00; text-decoration-color: #00af00\">9</span>, <span style=\"color: #00af00; text-decoration-color: #00af00\">9</span>, <span style=\"color: #00af00; text-decoration-color: #00af00\">128</span>)      │       <span style=\"color: #00af00; text-decoration-color: #00af00\">147,584</span> │\n",
       "├─────────────────────────────────┼────────────────────────┼───────────────┤\n",
       "│ batch_normalization_3           │ (<span style=\"color: #00d7ff; text-decoration-color: #00d7ff\">None</span>, <span style=\"color: #00af00; text-decoration-color: #00af00\">9</span>, <span style=\"color: #00af00; text-decoration-color: #00af00\">9</span>, <span style=\"color: #00af00; text-decoration-color: #00af00\">128</span>)      │           <span style=\"color: #00af00; text-decoration-color: #00af00\">512</span> │\n",
       "│ (<span style=\"color: #0087ff; text-decoration-color: #0087ff\">BatchNormalization</span>)            │                        │               │\n",
       "├─────────────────────────────────┼────────────────────────┼───────────────┤\n",
       "│ flatten (<span style=\"color: #0087ff; text-decoration-color: #0087ff\">Flatten</span>)               │ (<span style=\"color: #00d7ff; text-decoration-color: #00d7ff\">None</span>, <span style=\"color: #00af00; text-decoration-color: #00af00\">10368</span>)          │             <span style=\"color: #00af00; text-decoration-color: #00af00\">0</span> │\n",
       "├─────────────────────────────────┼────────────────────────┼───────────────┤\n",
       "│ dense (<span style=\"color: #0087ff; text-decoration-color: #0087ff\">Dense</span>)                   │ (<span style=\"color: #00d7ff; text-decoration-color: #00d7ff\">None</span>, <span style=\"color: #00af00; text-decoration-color: #00af00\">256</span>)            │     <span style=\"color: #00af00; text-decoration-color: #00af00\">2,654,464</span> │\n",
       "├─────────────────────────────────┼────────────────────────┼───────────────┤\n",
       "│ dropout (<span style=\"color: #0087ff; text-decoration-color: #0087ff\">Dropout</span>)               │ (<span style=\"color: #00d7ff; text-decoration-color: #00d7ff\">None</span>, <span style=\"color: #00af00; text-decoration-color: #00af00\">256</span>)            │             <span style=\"color: #00af00; text-decoration-color: #00af00\">0</span> │\n",
       "├─────────────────────────────────┼────────────────────────┼───────────────┤\n",
       "│ dense_1 (<span style=\"color: #0087ff; text-decoration-color: #0087ff\">Dense</span>)                 │ (<span style=\"color: #00d7ff; text-decoration-color: #00d7ff\">None</span>, <span style=\"color: #00af00; text-decoration-color: #00af00\">6</span>)              │         <span style=\"color: #00af00; text-decoration-color: #00af00\">1,542</span> │\n",
       "└─────────────────────────────────┴────────────────────────┴───────────────┘\n",
       "</pre>\n"
      ],
      "text/plain": [
       "┏━━━━━━━━━━━━━━━━━━━━━━━━━━━━━━━━━┳━━━━━━━━━━━━━━━━━━━━━━━━┳━━━━━━━━━━━━━━━┓\n",
       "┃\u001b[1m \u001b[0m\u001b[1mLayer (type)                   \u001b[0m\u001b[1m \u001b[0m┃\u001b[1m \u001b[0m\u001b[1mOutput Shape          \u001b[0m\u001b[1m \u001b[0m┃\u001b[1m \u001b[0m\u001b[1m      Param #\u001b[0m\u001b[1m \u001b[0m┃\n",
       "┡━━━━━━━━━━━━━━━━━━━━━━━━━━━━━━━━━╇━━━━━━━━━━━━━━━━━━━━━━━━╇━━━━━━━━━━━━━━━┩\n",
       "│ conv2d (\u001b[38;5;33mConv2D\u001b[0m)                 │ (\u001b[38;5;45mNone\u001b[0m, \u001b[38;5;34m75\u001b[0m, \u001b[38;5;34m75\u001b[0m, \u001b[38;5;34m64\u001b[0m)     │         \u001b[38;5;34m1,792\u001b[0m │\n",
       "├─────────────────────────────────┼────────────────────────┼───────────────┤\n",
       "│ max_pooling2d (\u001b[38;5;33mMaxPooling2D\u001b[0m)    │ (\u001b[38;5;45mNone\u001b[0m, \u001b[38;5;34m37\u001b[0m, \u001b[38;5;34m37\u001b[0m, \u001b[38;5;34m64\u001b[0m)     │             \u001b[38;5;34m0\u001b[0m │\n",
       "├─────────────────────────────────┼────────────────────────┼───────────────┤\n",
       "│ batch_normalization             │ (\u001b[38;5;45mNone\u001b[0m, \u001b[38;5;34m37\u001b[0m, \u001b[38;5;34m37\u001b[0m, \u001b[38;5;34m64\u001b[0m)     │           \u001b[38;5;34m256\u001b[0m │\n",
       "│ (\u001b[38;5;33mBatchNormalization\u001b[0m)            │                        │               │\n",
       "├─────────────────────────────────┼────────────────────────┼───────────────┤\n",
       "│ conv2d_1 (\u001b[38;5;33mConv2D\u001b[0m)               │ (\u001b[38;5;45mNone\u001b[0m, \u001b[38;5;34m37\u001b[0m, \u001b[38;5;34m37\u001b[0m, \u001b[38;5;34m128\u001b[0m)    │        \u001b[38;5;34m73,856\u001b[0m │\n",
       "├─────────────────────────────────┼────────────────────────┼───────────────┤\n",
       "│ max_pooling2d_1 (\u001b[38;5;33mMaxPooling2D\u001b[0m)  │ (\u001b[38;5;45mNone\u001b[0m, \u001b[38;5;34m18\u001b[0m, \u001b[38;5;34m18\u001b[0m, \u001b[38;5;34m128\u001b[0m)    │             \u001b[38;5;34m0\u001b[0m │\n",
       "├─────────────────────────────────┼────────────────────────┼───────────────┤\n",
       "│ batch_normalization_1           │ (\u001b[38;5;45mNone\u001b[0m, \u001b[38;5;34m18\u001b[0m, \u001b[38;5;34m18\u001b[0m, \u001b[38;5;34m128\u001b[0m)    │           \u001b[38;5;34m512\u001b[0m │\n",
       "│ (\u001b[38;5;33mBatchNormalization\u001b[0m)            │                        │               │\n",
       "├─────────────────────────────────┼────────────────────────┼───────────────┤\n",
       "│ conv2d_2 (\u001b[38;5;33mConv2D\u001b[0m)               │ (\u001b[38;5;45mNone\u001b[0m, \u001b[38;5;34m18\u001b[0m, \u001b[38;5;34m18\u001b[0m, \u001b[38;5;34m128\u001b[0m)    │       \u001b[38;5;34m147,584\u001b[0m │\n",
       "├─────────────────────────────────┼────────────────────────┼───────────────┤\n",
       "│ max_pooling2d_2 (\u001b[38;5;33mMaxPooling2D\u001b[0m)  │ (\u001b[38;5;45mNone\u001b[0m, \u001b[38;5;34m9\u001b[0m, \u001b[38;5;34m9\u001b[0m, \u001b[38;5;34m128\u001b[0m)      │             \u001b[38;5;34m0\u001b[0m │\n",
       "├─────────────────────────────────┼────────────────────────┼───────────────┤\n",
       "│ batch_normalization_2           │ (\u001b[38;5;45mNone\u001b[0m, \u001b[38;5;34m9\u001b[0m, \u001b[38;5;34m9\u001b[0m, \u001b[38;5;34m128\u001b[0m)      │           \u001b[38;5;34m512\u001b[0m │\n",
       "│ (\u001b[38;5;33mBatchNormalization\u001b[0m)            │                        │               │\n",
       "├─────────────────────────────────┼────────────────────────┼───────────────┤\n",
       "│ conv2d_3 (\u001b[38;5;33mConv2D\u001b[0m)               │ (\u001b[38;5;45mNone\u001b[0m, \u001b[38;5;34m9\u001b[0m, \u001b[38;5;34m9\u001b[0m, \u001b[38;5;34m128\u001b[0m)      │       \u001b[38;5;34m147,584\u001b[0m │\n",
       "├─────────────────────────────────┼────────────────────────┼───────────────┤\n",
       "│ batch_normalization_3           │ (\u001b[38;5;45mNone\u001b[0m, \u001b[38;5;34m9\u001b[0m, \u001b[38;5;34m9\u001b[0m, \u001b[38;5;34m128\u001b[0m)      │           \u001b[38;5;34m512\u001b[0m │\n",
       "│ (\u001b[38;5;33mBatchNormalization\u001b[0m)            │                        │               │\n",
       "├─────────────────────────────────┼────────────────────────┼───────────────┤\n",
       "│ flatten (\u001b[38;5;33mFlatten\u001b[0m)               │ (\u001b[38;5;45mNone\u001b[0m, \u001b[38;5;34m10368\u001b[0m)          │             \u001b[38;5;34m0\u001b[0m │\n",
       "├─────────────────────────────────┼────────────────────────┼───────────────┤\n",
       "│ dense (\u001b[38;5;33mDense\u001b[0m)                   │ (\u001b[38;5;45mNone\u001b[0m, \u001b[38;5;34m256\u001b[0m)            │     \u001b[38;5;34m2,654,464\u001b[0m │\n",
       "├─────────────────────────────────┼────────────────────────┼───────────────┤\n",
       "│ dropout (\u001b[38;5;33mDropout\u001b[0m)               │ (\u001b[38;5;45mNone\u001b[0m, \u001b[38;5;34m256\u001b[0m)            │             \u001b[38;5;34m0\u001b[0m │\n",
       "├─────────────────────────────────┼────────────────────────┼───────────────┤\n",
       "│ dense_1 (\u001b[38;5;33mDense\u001b[0m)                 │ (\u001b[38;5;45mNone\u001b[0m, \u001b[38;5;34m6\u001b[0m)              │         \u001b[38;5;34m1,542\u001b[0m │\n",
       "└─────────────────────────────────┴────────────────────────┴───────────────┘\n"
      ]
     },
     "metadata": {},
     "output_type": "display_data"
    },
    {
     "data": {
      "text/html": [
       "<pre style=\"white-space:pre;overflow-x:auto;line-height:normal;font-family:Menlo,'DejaVu Sans Mono',consolas,'Courier New',monospace\"><span style=\"font-weight: bold\"> Total params: </span><span style=\"color: #00af00; text-decoration-color: #00af00\">3,028,614</span> (11.55 MB)\n",
       "</pre>\n"
      ],
      "text/plain": [
       "\u001b[1m Total params: \u001b[0m\u001b[38;5;34m3,028,614\u001b[0m (11.55 MB)\n"
      ]
     },
     "metadata": {},
     "output_type": "display_data"
    },
    {
     "data": {
      "text/html": [
       "<pre style=\"white-space:pre;overflow-x:auto;line-height:normal;font-family:Menlo,'DejaVu Sans Mono',consolas,'Courier New',monospace\"><span style=\"font-weight: bold\"> Trainable params: </span><span style=\"color: #00af00; text-decoration-color: #00af00\">3,027,718</span> (11.55 MB)\n",
       "</pre>\n"
      ],
      "text/plain": [
       "\u001b[1m Trainable params: \u001b[0m\u001b[38;5;34m3,027,718\u001b[0m (11.55 MB)\n"
      ]
     },
     "metadata": {},
     "output_type": "display_data"
    },
    {
     "data": {
      "text/html": [
       "<pre style=\"white-space:pre;overflow-x:auto;line-height:normal;font-family:Menlo,'DejaVu Sans Mono',consolas,'Courier New',monospace\"><span style=\"font-weight: bold\"> Non-trainable params: </span><span style=\"color: #00af00; text-decoration-color: #00af00\">896</span> (3.50 KB)\n",
       "</pre>\n"
      ],
      "text/plain": [
       "\u001b[1m Non-trainable params: \u001b[0m\u001b[38;5;34m896\u001b[0m (3.50 KB)\n"
      ]
     },
     "metadata": {},
     "output_type": "display_data"
    }
   ],
   "source": [
    "# Fetch the best performing model\n",
    "best_model = tuner.get_best_models(num_models=1)[0]\n",
    "\n",
    "# Print the best model's architecture\n",
    "print(\"\\nModel Architecture:\\n\")\n",
    "best_model.summary()"
   ]
  },
  {
   "cell_type": "markdown",
   "id": "1b57ce4d",
   "metadata": {},
   "source": [
    "## Training the Best Model \n",
    "\n",
    "After hyperparameter tuning, the best hyperparameters are applied to rebuild the optimal model, train the model on the full training set and validate the model agaimnst the validation data set for 10 epochs. <br>\n",
    "\n",
    "This section is responsible for constructing and training the CNN model using the best hyperparameters obtained from the previous hyperparameter tuning phase. <br>\n",
    "The **tuner.hypermodel.build** function is used to create the model with the optimal hyperparameters. The he model is then trained using the fit method on the training data for 10 epochs. <br>\n",
    "The **train_generator** provides the training data in batches, and the **validation_generator** evaluates the model's performance on the validation data after each epoch.\n",
    "\n",
    "Initially, the model's accuracy on the training set improves substantially from around 61% to nearly 79% by the end of the 10 epochs. However, the validation accuracy starts very low at around 17% and only begins to significantly improve after the ninth epoch, reaching approximately 62% in the tenth epoch. The validation loss decreases accordingly. <br>\n",
    "\n",
    "This output suggests a few points of interest:\n",
    "\n",
    "- The model is learning and improving its performance on the training set across epochs as indicated by increasing accuracy and decreasing loss.\n",
    "- There is a significant discrepancy between training and validation performance in the initial epochs, suggesting overfitting, where the model learns the training data very well but fails to generalize to the validation data.\n",
    "- The validation metrics improve later in the training, which could indicate that the model required more iterations to generalize or that the validation set is challenging and may not represent the training set distribution well.\n",
    "- Considering the late improvement on the validation set, the model could potentially benefit from:\n",
    "    - Further training beyond the 10 epochs.\n",
    "    - Further tuning of dropout rates\n",
    "    - Addition of regularization.\n",
    "    - Augmentation of the training data.\n",
    "\n",
    "The Augmentation option didn't help out and thereefore not an option to consider at this stage."
   ]
  },
  {
   "cell_type": "code",
   "execution_count": 10,
   "id": "ec678b28",
   "metadata": {
    "scrolled": false
   },
   "outputs": [
    {
     "name": "stdout",
     "output_type": "stream",
     "text": [
      "Epoch 1/10\n"
     ]
    },
    {
     "name": "stderr",
     "output_type": "stream",
     "text": [
      "2024-04-08 22:47:40.796634: I tensorflow/core/kernels/data/shuffle_dataset_op.cc:450] ShuffleDatasetV3:24: Filling up shuffle buffer (this may take a while): 2 of 8\n",
      "2024-04-08 22:47:51.774611: I tensorflow/core/kernels/data/shuffle_dataset_op.cc:450] ShuffleDatasetV3:24: Filling up shuffle buffer (this may take a while): 4 of 8\n",
      "2024-04-08 22:48:02.761057: I tensorflow/core/kernels/data/shuffle_dataset_op.cc:450] ShuffleDatasetV3:24: Filling up shuffle buffer (this may take a while): 6 of 8\n",
      "2024-04-08 22:48:13.737043: I tensorflow/core/kernels/data/shuffle_dataset_op.cc:480] Shuffle buffer filled.\n"
     ]
    },
    {
     "name": "stdout",
     "output_type": "stream",
     "text": [
      "\u001b[1m64/64\u001b[0m \u001b[32m━━━━━━━━━━━━━━━━━━━━\u001b[0m\u001b[37m\u001b[0m \u001b[1m684s\u001b[0m 10s/step - accuracy: 0.6102 - loss: 1.3187 - val_accuracy: 0.1721 - val_loss: 2.0882\n",
      "Epoch 2/10\n",
      "\u001b[1m64/64\u001b[0m \u001b[32m━━━━━━━━━━━━━━━━━━━━\u001b[0m\u001b[37m\u001b[0m \u001b[1m626s\u001b[0m 10s/step - accuracy: 0.7466 - loss: 0.6989 - val_accuracy: 0.1721 - val_loss: 3.4658\n",
      "Epoch 3/10\n",
      "\u001b[1m64/64\u001b[0m \u001b[32m━━━━━━━━━━━━━━━━━━━━\u001b[0m\u001b[37m\u001b[0m \u001b[1m614s\u001b[0m 10s/step - accuracy: 0.7685 - loss: 0.6536 - val_accuracy: 0.1661 - val_loss: 3.4870\n",
      "Epoch 4/10\n",
      "\u001b[1m12/64\u001b[0m \u001b[32m━━━\u001b[0m\u001b[37m━━━━━━━━━━━━━━━━━\u001b[0m \u001b[1m11s\u001b[0m 224ms/step - accuracy: 0.7777 - loss: 0.6316"
     ]
    },
    {
     "name": "stderr",
     "output_type": "stream",
     "text": [
      "2024-04-08 23:19:36.053845: W tensorflow/core/framework/local_rendezvous.cc:404] Local rendezvous is aborting with status: OUT_OF_RANGE: End of sequence\n",
      "\t [[{{node IteratorGetNext}}]]\n",
      "\t [[StatefulPartitionedCall/adam/ReadVariableOp_7/_7]]\n",
      "2024-04-08 23:19:36.054271: I tensorflow/core/framework/local_rendezvous.cc:422] Local rendezvous recv item cancelled. Key hash: 3973345711687893286\n",
      "2024-04-08 23:19:36.054498: W tensorflow/core/framework/local_rendezvous.cc:404] Local rendezvous is aborting with status: OUT_OF_RANGE: End of sequence\n",
      "\t [[{{node IteratorGetNext}}]]\n",
      "2024-04-08 23:19:36.054515: I tensorflow/core/framework/local_rendezvous.cc:422] Local rendezvous recv item cancelled. Key hash: 1852568335499034647\n",
      "2024-04-08 23:19:36.054712: I tensorflow/core/framework/local_rendezvous.cc:422] Local rendezvous recv item cancelled. Key hash: 2513848702048567612\n",
      "2024-04-08 23:19:36.054720: I tensorflow/core/framework/local_rendezvous.cc:426] Local rendezvous send item cancelled. Key hash: 3866235177813950798\n",
      "2024-04-08 23:19:36.054726: I tensorflow/core/framework/local_rendezvous.cc:422] Local rendezvous recv item cancelled. Key hash: 3243627907778856574\n",
      "2024-04-08 23:19:36.054732: I tensorflow/core/framework/local_rendezvous.cc:422] Local rendezvous recv item cancelled. Key hash: 4922063423273994980\n",
      "2024-04-08 23:19:36.054776: I tensorflow/core/framework/local_rendezvous.cc:422] Local rendezvous recv item cancelled. Key hash: 9681018744647532923\n",
      "2024-04-08 23:19:36.054920: I tensorflow/core/framework/local_rendezvous.cc:422] Local rendezvous recv item cancelled. Key hash: 9098380673624984696\n",
      "2024-04-08 23:19:36.054929: I tensorflow/core/framework/local_rendezvous.cc:422] Local rendezvous recv item cancelled. Key hash: 520882573878693736\n",
      "2024-04-08 23:19:36.054934: I tensorflow/core/framework/local_rendezvous.cc:422] Local rendezvous recv item cancelled. Key hash: 16282780686805046062\n",
      "2024-04-08 23:19:36.055025: I tensorflow/core/framework/local_rendezvous.cc:422] Local rendezvous recv item cancelled. Key hash: 7605045366834921721\n",
      "2024-04-08 23:19:36.055033: I tensorflow/core/framework/local_rendezvous.cc:422] Local rendezvous recv item cancelled. Key hash: 14138284342292955221\n",
      "2024-04-08 23:19:36.055123: I tensorflow/core/framework/local_rendezvous.cc:422] Local rendezvous recv item cancelled. Key hash: 4125438052532016038\n",
      "2024-04-08 23:19:36.055208: I tensorflow/core/framework/local_rendezvous.cc:422] Local rendezvous recv item cancelled. Key hash: 10363073824878021285\n",
      "2024-04-08 23:19:36.055215: I tensorflow/core/framework/local_rendezvous.cc:422] Local rendezvous recv item cancelled. Key hash: 9090829951349345199\n",
      "2024-04-08 23:19:36.055221: I tensorflow/core/framework/local_rendezvous.cc:422] Local rendezvous recv item cancelled. Key hash: 6151315112229342389\n",
      "2024-04-08 23:19:36.055227: I tensorflow/core/framework/local_rendezvous.cc:422] Local rendezvous recv item cancelled. Key hash: 803804309898300697\n",
      "2024-04-08 23:19:36.055232: I tensorflow/core/framework/local_rendezvous.cc:422] Local rendezvous recv item cancelled. Key hash: 1740551981935349895\n",
      "2024-04-08 23:19:36.055237: I tensorflow/core/framework/local_rendezvous.cc:422] Local rendezvous recv item cancelled. Key hash: 3345676886136164525\n",
      "2024-04-08 23:19:36.055242: I tensorflow/core/framework/local_rendezvous.cc:422] Local rendezvous recv item cancelled. Key hash: 2469353557136151529\n",
      "2024-04-08 23:19:36.055247: I tensorflow/core/framework/local_rendezvous.cc:422] Local rendezvous recv item cancelled. Key hash: 14178416689562048211\n",
      "2024-04-08 23:19:36.055253: I tensorflow/core/framework/local_rendezvous.cc:422] Local rendezvous recv item cancelled. Key hash: 1680123031672903347\n",
      "2024-04-08 23:19:36.055258: I tensorflow/core/framework/local_rendezvous.cc:422] Local rendezvous recv item cancelled. Key hash: 4608615369661716691\n",
      "2024-04-08 23:19:36.055263: I tensorflow/core/framework/local_rendezvous.cc:422] Local rendezvous recv item cancelled. Key hash: 6089864136818366859\n",
      "2024-04-08 23:19:36.055268: I tensorflow/core/framework/local_rendezvous.cc:422] Local rendezvous recv item cancelled. Key hash: 7091037371411389829\n",
      "2024-04-08 23:19:36.055273: I tensorflow/core/framework/local_rendezvous.cc:422] Local rendezvous recv item cancelled. Key hash: 15189558885012086569\n",
      "2024-04-08 23:19:36.055282: I tensorflow/core/framework/local_rendezvous.cc:422] Local rendezvous recv item cancelled. Key hash: 18022564111489557281\n",
      "2024-04-08 23:19:36.055288: I tensorflow/core/framework/local_rendezvous.cc:422] Local rendezvous recv item cancelled. Key hash: 5933374964599810177\n",
      "2024-04-08 23:19:36.055293: I tensorflow/core/framework/local_rendezvous.cc:422] Local rendezvous recv item cancelled. Key hash: 9343207426265820123\n",
      "2024-04-08 23:19:36.055299: I tensorflow/core/framework/local_rendezvous.cc:422] Local rendezvous recv item cancelled. Key hash: 9015947974299514089\n",
      "2024-04-08 23:19:36.055304: I tensorflow/core/framework/local_rendezvous.cc:422] Local rendezvous recv item cancelled. Key hash: 3222468767784942433\n",
      "2024-04-08 23:19:36.055309: I tensorflow/core/framework/local_rendezvous.cc:422] Local rendezvous recv item cancelled. Key hash: 4080257124464202330\n",
      "2024-04-08 23:19:36.055325: I tensorflow/core/framework/local_rendezvous.cc:422] Local rendezvous recv item cancelled. Key hash: 13142983321511385636\n",
      "2024-04-08 23:19:36.055332: I tensorflow/core/framework/local_rendezvous.cc:422] Local rendezvous recv item cancelled. Key hash: 146776740090961018\n",
      "2024-04-08 23:19:36.055340: I tensorflow/core/framework/local_rendezvous.cc:422] Local rendezvous recv item cancelled. Key hash: 17693996189691903055\n",
      "2024-04-08 23:19:36.055350: I tensorflow/core/framework/local_rendezvous.cc:422] Local rendezvous recv item cancelled. Key hash: 3557868203306917728\n",
      "2024-04-08 23:19:36.055359: I tensorflow/core/framework/local_rendezvous.cc:422] Local rendezvous recv item cancelled. Key hash: 13857257103294013646\n",
      "2024-04-08 23:19:36.055367: I tensorflow/core/framework/local_rendezvous.cc:422] Local rendezvous recv item cancelled. Key hash: 11885324468292166868\n",
      "2024-04-08 23:19:36.055374: I tensorflow/core/framework/local_rendezvous.cc:422] Local rendezvous recv item cancelled. Key hash: 1268265148066036811\n",
      "2024-04-08 23:19:36.055383: I tensorflow/core/framework/local_rendezvous.cc:422] Local rendezvous recv item cancelled. Key hash: 5931044306335622646\n",
      "2024-04-08 23:19:36.055593: I tensorflow/core/framework/local_rendezvous.cc:422] Local rendezvous recv item cancelled. Key hash: 5459068489769445036\n",
      "2024-04-08 23:19:36.055600: I tensorflow/core/framework/local_rendezvous.cc:422] Local rendezvous recv item cancelled. Key hash: 8669629381750810300\n",
      "2024-04-08 23:19:36.055606: I tensorflow/core/framework/local_rendezvous.cc:422] Local rendezvous recv item cancelled. Key hash: 1072011598784538734\n",
      "2024-04-08 23:19:36.055611: I tensorflow/core/framework/local_rendezvous.cc:422] Local rendezvous recv item cancelled. Key hash: 1575515444392552744\n",
      "2024-04-08 23:19:36.055616: I tensorflow/core/framework/local_rendezvous.cc:422] Local rendezvous recv item cancelled. Key hash: 16349195231656570870\n",
      "2024-04-08 23:19:36.055621: I tensorflow/core/framework/local_rendezvous.cc:422] Local rendezvous recv item cancelled. Key hash: 13570429561078362226\n",
      "2024-04-08 23:19:36.055626: I tensorflow/core/framework/local_rendezvous.cc:422] Local rendezvous recv item cancelled. Key hash: 5438291380034156840\n",
      "2024-04-08 23:19:36.055631: I tensorflow/core/framework/local_rendezvous.cc:422] Local rendezvous recv item cancelled. Key hash: 5359081332730804896\n",
      "2024-04-08 23:19:36.055642: I tensorflow/core/framework/local_rendezvous.cc:422] Local rendezvous recv item cancelled. Key hash: 1543966036478345152\n"
     ]
    },
    {
     "name": "stdout",
     "output_type": "stream",
     "text": [
      "\u001b[1m64/64\u001b[0m \u001b[32m━━━━━━━━━━━━━━━━━━━━\u001b[0m\u001b[37m\u001b[0m \u001b[1m284s\u001b[0m 5s/step - accuracy: 0.7737 - loss: 0.5853 - val_accuracy: 0.1868 - val_loss: 2.8579\n",
      "Epoch 5/10\n"
     ]
    },
    {
     "name": "stderr",
     "output_type": "stream",
     "text": [
      "2024-04-08 23:24:28.603970: I tensorflow/core/kernels/data/shuffle_dataset_op.cc:450] ShuffleDatasetV3:24: Filling up shuffle buffer (this may take a while): 2 of 8\n",
      "2024-04-08 23:24:39.628188: I tensorflow/core/kernels/data/shuffle_dataset_op.cc:450] ShuffleDatasetV3:24: Filling up shuffle buffer (this may take a while): 4 of 8\n",
      "2024-04-08 23:24:50.654913: I tensorflow/core/kernels/data/shuffle_dataset_op.cc:450] ShuffleDatasetV3:24: Filling up shuffle buffer (this may take a while): 6 of 8\n",
      "2024-04-08 23:25:01.722872: I tensorflow/core/kernels/data/shuffle_dataset_op.cc:480] Shuffle buffer filled.\n"
     ]
    },
    {
     "name": "stdout",
     "output_type": "stream",
     "text": [
      "\u001b[1m64/64\u001b[0m \u001b[32m━━━━━━━━━━━━━━━━━━━━\u001b[0m\u001b[37m\u001b[0m \u001b[1m676s\u001b[0m 10s/step - accuracy: 0.7680 - loss: 0.6329 - val_accuracy: 0.1938 - val_loss: 3.7018\n",
      "Epoch 6/10\n",
      "\u001b[1m64/64\u001b[0m \u001b[32m━━━━━━━━━━━━━━━━━━━━\u001b[0m\u001b[37m\u001b[0m \u001b[1m622s\u001b[0m 10s/step - accuracy: 0.7814 - loss: 0.5917 - val_accuracy: 0.1985 - val_loss: 3.9307\n",
      "Epoch 7/10\n",
      "\u001b[1m64/64\u001b[0m \u001b[32m━━━━━━━━━━━━━━━━━━━━\u001b[0m\u001b[37m\u001b[0m \u001b[1m610s\u001b[0m 10s/step - accuracy: 0.7714 - loss: 0.5874 - val_accuracy: 0.3328 - val_loss: 2.3699\n",
      "Epoch 8/10\n",
      "\u001b[1m12/64\u001b[0m \u001b[32m━━━\u001b[0m\u001b[37m━━━━━━━━━━━━━━━━━\u001b[0m \u001b[1m11s\u001b[0m 218ms/step - accuracy: 0.7609 - loss: 0.6312"
     ]
    },
    {
     "name": "stderr",
     "output_type": "stream",
     "text": [
      "2024-04-08 23:56:09.038541: W tensorflow/core/framework/local_rendezvous.cc:404] Local rendezvous is aborting with status: OUT_OF_RANGE: End of sequence\n",
      "\t [[{{node IteratorGetNext}}]]\n",
      "2024-04-08 23:56:09.039204: I tensorflow/core/framework/local_rendezvous.cc:422] Local rendezvous recv item cancelled. Key hash: 3973345711687893286\n",
      "2024-04-08 23:56:09.039230: W tensorflow/core/framework/local_rendezvous.cc:404] Local rendezvous is aborting with status: OUT_OF_RANGE: End of sequence\n",
      "\t [[{{node IteratorGetNext}}]]\n",
      "\t [[StatefulPartitionedCall/adam/ReadVariableOp_13/_21]]\n",
      "2024-04-08 23:56:09.039248: I tensorflow/core/framework/local_rendezvous.cc:422] Local rendezvous recv item cancelled. Key hash: 1852568335499034647\n",
      "2024-04-08 23:56:09.039424: I tensorflow/core/framework/local_rendezvous.cc:422] Local rendezvous recv item cancelled. Key hash: 2513848702048567612\n",
      "2024-04-08 23:56:09.039432: I tensorflow/core/framework/local_rendezvous.cc:426] Local rendezvous send item cancelled. Key hash: 3866235177813950798\n",
      "2024-04-08 23:56:09.039438: I tensorflow/core/framework/local_rendezvous.cc:422] Local rendezvous recv item cancelled. Key hash: 3243627907778856574\n",
      "2024-04-08 23:56:09.039443: I tensorflow/core/framework/local_rendezvous.cc:422] Local rendezvous recv item cancelled. Key hash: 4922063423273994980\n",
      "2024-04-08 23:56:09.039453: I tensorflow/core/framework/local_rendezvous.cc:422] Local rendezvous recv item cancelled. Key hash: 9681018744647532923\n",
      "2024-04-08 23:56:09.039637: I tensorflow/core/framework/local_rendezvous.cc:422] Local rendezvous recv item cancelled. Key hash: 9098380673624984696\n",
      "2024-04-08 23:56:09.039647: I tensorflow/core/framework/local_rendezvous.cc:422] Local rendezvous recv item cancelled. Key hash: 520882573878693736\n",
      "2024-04-08 23:56:09.039656: I tensorflow/core/framework/local_rendezvous.cc:422] Local rendezvous recv item cancelled. Key hash: 7605045366834921721\n",
      "2024-04-08 23:56:09.039667: I tensorflow/core/framework/local_rendezvous.cc:422] Local rendezvous recv item cancelled. Key hash: 16282780686805046062\n",
      "2024-04-08 23:56:09.039684: I tensorflow/core/framework/local_rendezvous.cc:422] Local rendezvous recv item cancelled. Key hash: 14138284342292955221\n",
      "2024-04-08 23:56:09.039871: I tensorflow/core/framework/local_rendezvous.cc:422] Local rendezvous recv item cancelled. Key hash: 10363073824878021285\n",
      "2024-04-08 23:56:09.039880: I tensorflow/core/framework/local_rendezvous.cc:422] Local rendezvous recv item cancelled. Key hash: 4125438052532016038\n",
      "2024-04-08 23:56:09.039889: I tensorflow/core/framework/local_rendezvous.cc:422] Local rendezvous recv item cancelled. Key hash: 9090829951349345199\n",
      "2024-04-08 23:56:09.039896: I tensorflow/core/framework/local_rendezvous.cc:422] Local rendezvous recv item cancelled. Key hash: 6151315112229342389\n",
      "2024-04-08 23:56:09.039901: I tensorflow/core/framework/local_rendezvous.cc:422] Local rendezvous recv item cancelled. Key hash: 803804309898300697\n",
      "2024-04-08 23:56:09.039906: I tensorflow/core/framework/local_rendezvous.cc:422] Local rendezvous recv item cancelled. Key hash: 3345676886136164525\n",
      "2024-04-08 23:56:09.039911: I tensorflow/core/framework/local_rendezvous.cc:422] Local rendezvous recv item cancelled. Key hash: 2469353557136151529\n",
      "2024-04-08 23:56:09.039916: I tensorflow/core/framework/local_rendezvous.cc:422] Local rendezvous recv item cancelled. Key hash: 14178416689562048211\n",
      "2024-04-08 23:56:09.039922: I tensorflow/core/framework/local_rendezvous.cc:422] Local rendezvous recv item cancelled. Key hash: 1680123031672903347\n",
      "2024-04-08 23:56:09.039929: I tensorflow/core/framework/local_rendezvous.cc:422] Local rendezvous recv item cancelled. Key hash: 4608615369661716691\n",
      "2024-04-08 23:56:09.039934: I tensorflow/core/framework/local_rendezvous.cc:422] Local rendezvous recv item cancelled. Key hash: 6089864136818366859\n",
      "2024-04-08 23:56:09.039939: I tensorflow/core/framework/local_rendezvous.cc:422] Local rendezvous recv item cancelled. Key hash: 7091037371411389829\n",
      "2024-04-08 23:56:09.039944: I tensorflow/core/framework/local_rendezvous.cc:422] Local rendezvous recv item cancelled. Key hash: 15189558885012086569\n",
      "2024-04-08 23:56:09.039957: I tensorflow/core/framework/local_rendezvous.cc:422] Local rendezvous recv item cancelled. Key hash: 18022564111489557281\n",
      "2024-04-08 23:56:09.039962: I tensorflow/core/framework/local_rendezvous.cc:422] Local rendezvous recv item cancelled. Key hash: 5933374964599810177\n",
      "2024-04-08 23:56:09.039968: I tensorflow/core/framework/local_rendezvous.cc:422] Local rendezvous recv item cancelled. Key hash: 9343207426265820123\n",
      "2024-04-08 23:56:09.039973: I tensorflow/core/framework/local_rendezvous.cc:422] Local rendezvous recv item cancelled. Key hash: 9015947974299514089\n",
      "2024-04-08 23:56:09.039978: I tensorflow/core/framework/local_rendezvous.cc:422] Local rendezvous recv item cancelled. Key hash: 3222468767784942433\n",
      "2024-04-08 23:56:09.039984: I tensorflow/core/framework/local_rendezvous.cc:422] Local rendezvous recv item cancelled. Key hash: 17693996189691903055\n",
      "2024-04-08 23:56:09.039989: I tensorflow/core/framework/local_rendezvous.cc:422] Local rendezvous recv item cancelled. Key hash: 1268265148066036811\n",
      "2024-04-08 23:56:09.040055: I tensorflow/core/framework/local_rendezvous.cc:422] Local rendezvous recv item cancelled. Key hash: 4080257124464202330\n",
      "2024-04-08 23:56:09.040162: I tensorflow/core/framework/local_rendezvous.cc:422] Local rendezvous recv item cancelled. Key hash: 13142983321511385636\n",
      "2024-04-08 23:56:09.040169: I tensorflow/core/framework/local_rendezvous.cc:422] Local rendezvous recv item cancelled. Key hash: 146776740090961018\n",
      "2024-04-08 23:56:09.040178: I tensorflow/core/framework/local_rendezvous.cc:422] Local rendezvous recv item cancelled. Key hash: 3557868203306917728\n",
      "2024-04-08 23:56:09.040183: I tensorflow/core/framework/local_rendezvous.cc:422] Local rendezvous recv item cancelled. Key hash: 13857257103294013646\n",
      "2024-04-08 23:56:09.040188: I tensorflow/core/framework/local_rendezvous.cc:422] Local rendezvous recv item cancelled. Key hash: 11885324468292166868\n",
      "2024-04-08 23:56:09.040193: I tensorflow/core/framework/local_rendezvous.cc:422] Local rendezvous recv item cancelled. Key hash: 5931044306335622646\n",
      "2024-04-08 23:56:09.040198: I tensorflow/core/framework/local_rendezvous.cc:422] Local rendezvous recv item cancelled. Key hash: 5459068489769445036\n",
      "2024-04-08 23:56:09.040203: I tensorflow/core/framework/local_rendezvous.cc:422] Local rendezvous recv item cancelled. Key hash: 8669629381750810300\n",
      "2024-04-08 23:56:09.040208: I tensorflow/core/framework/local_rendezvous.cc:422] Local rendezvous recv item cancelled. Key hash: 1072011598784538734\n",
      "2024-04-08 23:56:09.040213: I tensorflow/core/framework/local_rendezvous.cc:422] Local rendezvous recv item cancelled. Key hash: 1575515444392552744\n",
      "2024-04-08 23:56:09.040217: I tensorflow/core/framework/local_rendezvous.cc:422] Local rendezvous recv item cancelled. Key hash: 16349195231656570870\n",
      "2024-04-08 23:56:09.040222: I tensorflow/core/framework/local_rendezvous.cc:422] Local rendezvous recv item cancelled. Key hash: 13570429561078362226\n",
      "2024-04-08 23:56:09.040227: I tensorflow/core/framework/local_rendezvous.cc:422] Local rendezvous recv item cancelled. Key hash: 5438291380034156840\n",
      "2024-04-08 23:56:09.040232: I tensorflow/core/framework/local_rendezvous.cc:422] Local rendezvous recv item cancelled. Key hash: 5359081332730804896\n",
      "2024-04-08 23:56:09.040237: I tensorflow/core/framework/local_rendezvous.cc:422] Local rendezvous recv item cancelled. Key hash: 1543966036478345152\n"
     ]
    },
    {
     "name": "stdout",
     "output_type": "stream",
     "text": [
      "\u001b[1m64/64\u001b[0m \u001b[32m━━━━━━━━━━━━━━━━━━━━\u001b[0m\u001b[37m\u001b[0m \u001b[1m283s\u001b[0m 4s/step - accuracy: 0.7621 - loss: 0.5799 - val_accuracy: 0.2982 - val_loss: 2.0948\n",
      "Epoch 9/10\n"
     ]
    },
    {
     "name": "stderr",
     "output_type": "stream",
     "text": [
      "2024-04-09 00:00:59.897252: I tensorflow/core/kernels/data/shuffle_dataset_op.cc:450] ShuffleDatasetV3:24: Filling up shuffle buffer (this may take a while): 2 of 8\n",
      "2024-04-09 00:01:10.828538: I tensorflow/core/kernels/data/shuffle_dataset_op.cc:450] ShuffleDatasetV3:24: Filling up shuffle buffer (this may take a while): 4 of 8\n",
      "2024-04-09 00:01:21.768669: I tensorflow/core/kernels/data/shuffle_dataset_op.cc:450] ShuffleDatasetV3:24: Filling up shuffle buffer (this may take a while): 6 of 8\n",
      "2024-04-09 00:01:32.768905: I tensorflow/core/kernels/data/shuffle_dataset_op.cc:480] Shuffle buffer filled.\n"
     ]
    },
    {
     "name": "stdout",
     "output_type": "stream",
     "text": [
      "\u001b[1m64/64\u001b[0m \u001b[32m━━━━━━━━━━━━━━━━━━━━\u001b[0m\u001b[37m\u001b[0m \u001b[1m672s\u001b[0m 10s/step - accuracy: 0.7727 - loss: 0.6010 - val_accuracy: 0.5187 - val_loss: 1.2464\n",
      "Epoch 10/10\n",
      "\u001b[1m64/64\u001b[0m \u001b[32m━━━━━━━━━━━━━━━━━━━━\u001b[0m\u001b[37m\u001b[0m \u001b[1m623s\u001b[0m 10s/step - accuracy: 0.7891 - loss: 0.5590 - val_accuracy: 0.6185 - val_loss: 0.8454\n"
     ]
    }
   ],
   "source": [
    "epoch = 10\n",
    "# Build the model with the optimal hyperparameters and train it on the data for given epochs\n",
    "model = tuner.hypermodel.build(best_hps)\n",
    "history = model.fit(train_generator, epochs=epoch, validation_data=validation_generator, steps_per_epoch=no_steps_per_epoch)\n"
   ]
  },
  {
   "cell_type": "markdown",
   "id": "21c51095",
   "metadata": {},
   "source": [
    "## Learning Curves\n",
    "\n",
    "**Training and Validation Accuracy**\n",
    "\n",
    "The Training Accuracy curve shows a relatively stable and high accuracy, indicating that the model is fitting well to the training data. <br>\n",
    "In contrast, the Validation Accuracy curve begins at a significantly lower value, suggesting that the model is not initially performing well on the validation set. However, from around the **seventh epoch**, there is a notable increase in validation accuracy, implying that the model starts to generalize better to new data. <br>\n",
    "\n",
    "**Training and Validation Loss**\n",
    "\n",
    "The Training Loss decreases steadily, which shows the model is learning from the training data. <br>\n",
    "The Validation Loss shows varying fluctuations intially, and after the peak at around the fifth epoch, there is a marked downward trend, aligning with the improvement seen in the validation accuracy. <br>\n",
    "\n",
    "The discrepancy between training and validation accuracy, especially in the initial epochs, suggests overfitting. However, the subsequent improvement in validation accuracy and reduction in validation loss indicates that the model is starting to generalize better as training progresses. <br>\n",
    "\n",
    "The high variability in the validation loss curve can be a sign of a small validation set, leading to larger swings in loss values, or it could be indicative of the model learning a complex pattern from the training data that initially did not translate well to the validation data. <br>\n",
    "\n",
    "\n",
    "This calls for further investigation into the model regularization techniques e.g L1/L2 regularization, to mitigate the overfitting seen in the initial epochs. <br>\n",
    "\n",
    "Given the late improvement in validation metrics, extending the number of training epochs might allow the model to continue to learn and potentially improve validation performance further. <br>\n",
    "\n",
    "Image rotation, zooming image, horizontal and vertical flips are some of the augmentation strategies tested but did not show an improvement in generalization. <br>"
   ]
  },
  {
   "cell_type": "code",
   "execution_count": 11,
   "id": "9bb6d62b",
   "metadata": {},
   "outputs": [
    {
     "data": {
      "image/png": "[encoded data removed]",
      "text/plain": [
       "<Figure size 1200x600 with 2 Axes>"
      ]
     },
     "metadata": {},
     "output_type": "display_data"
    }
   ],
   "source": [
    "# Plot the loss curves\n",
    "plt.figure(figsize=(12, 6))\n",
    "\n",
    "# Plot training and validation accuracy\n",
    "plt.subplot(1, 2, 1)\n",
    "plt.plot(history.history['accuracy'], label='Training Accuracy')\n",
    "plt.plot(history.history['val_accuracy'], label='Validation Accuracy')\n",
    "plt.title('Training and Validation Accuracy')\n",
    "plt.xlabel('Epochs')\n",
    "plt.ylabel('Accuracy')\n",
    "plt.legend()\n",
    "\n",
    "# Plot training and validation loss\n",
    "plt.subplot(1, 2, 2)\n",
    "plt.plot(history.history['loss'], label='Training Loss')\n",
    "plt.plot(history.history['val_loss'], label='Validation Loss')\n",
    "plt.title('Training and Validation Loss')\n",
    "plt.xlabel('Epochs')\n",
    "plt.ylabel('Loss')\n",
    "plt.legend()\n",
    "\n",
    "plt.tight_layout()\n",
    "plt.show()"
   ]
  },
  {
   "cell_type": "markdown",
   "id": "d532ced4",
   "metadata": {},
   "source": [
    "The **history.history** dictionary contains training/validation results. <br>\n",
    "We create a DataFrame to display the results. <br>\n"
   ]
  },
  {
   "cell_type": "code",
   "execution_count": 12,
   "id": "c6e47def",
   "metadata": {},
   "outputs": [
    {
     "data": {
      "text/html": [
       "<div>\n",
       "<style scoped>\n",
       "    .dataframe tbody tr th:only-of-type {\n",
       "        vertical-align: middle;\n",
       "    }\n",
       "\n",
       "    .dataframe tbody tr th {\n",
       "        vertical-align: top;\n",
       "    }\n",
       "\n",
       "    .dataframe thead th {\n",
       "        text-align: right;\n",
       "    }\n",
       "</style>\n",
       "<table border=\"1\" class=\"dataframe\">\n",
       "  <thead>\n",
       "    <tr style=\"text-align: right;\">\n",
       "      <th></th>\n",
       "      <th>epoch</th>\n",
       "      <th>accuracy</th>\n",
       "      <th>loss</th>\n",
       "      <th>val_accuracy</th>\n",
       "      <th>val_loss</th>\n",
       "    </tr>\n",
       "  </thead>\n",
       "  <tbody>\n",
       "    <tr>\n",
       "      <th>0</th>\n",
       "      <td>1</td>\n",
       "      <td>0.690544</td>\n",
       "      <td>0.980291</td>\n",
       "      <td>0.172096</td>\n",
       "      <td>2.088238</td>\n",
       "    </tr>\n",
       "    <tr>\n",
       "      <th>1</th>\n",
       "      <td>2</td>\n",
       "      <td>0.756470</td>\n",
       "      <td>0.680366</td>\n",
       "      <td>0.172096</td>\n",
       "      <td>3.465767</td>\n",
       "    </tr>\n",
       "    <tr>\n",
       "      <th>2</th>\n",
       "      <td>3</td>\n",
       "      <td>0.764282</td>\n",
       "      <td>0.646777</td>\n",
       "      <td>0.166103</td>\n",
       "      <td>3.486965</td>\n",
       "    </tr>\n",
       "    <tr>\n",
       "      <th>3</th>\n",
       "      <td>4</td>\n",
       "      <td>0.772786</td>\n",
       "      <td>0.574651</td>\n",
       "      <td>0.186847</td>\n",
       "      <td>2.857947</td>\n",
       "    </tr>\n",
       "    <tr>\n",
       "      <th>4</th>\n",
       "      <td>5</td>\n",
       "      <td>0.771118</td>\n",
       "      <td>0.618614</td>\n",
       "      <td>0.193762</td>\n",
       "      <td>3.701753</td>\n",
       "    </tr>\n",
       "    <tr>\n",
       "      <th>5</th>\n",
       "      <td>6</td>\n",
       "      <td>0.783997</td>\n",
       "      <td>0.586339</td>\n",
       "      <td>0.198525</td>\n",
       "      <td>3.930675</td>\n",
       "    </tr>\n",
       "    <tr>\n",
       "      <th>6</th>\n",
       "      <td>7</td>\n",
       "      <td>0.773193</td>\n",
       "      <td>0.578938</td>\n",
       "      <td>0.332821</td>\n",
       "      <td>2.369895</td>\n",
       "    </tr>\n",
       "    <tr>\n",
       "      <th>7</th>\n",
       "      <td>8</td>\n",
       "      <td>0.762370</td>\n",
       "      <td>0.568053</td>\n",
       "      <td>0.298248</td>\n",
       "      <td>2.094825</td>\n",
       "    </tr>\n",
       "    <tr>\n",
       "      <th>8</th>\n",
       "      <td>9</td>\n",
       "      <td>0.778198</td>\n",
       "      <td>0.585015</td>\n",
       "      <td>0.518746</td>\n",
       "      <td>1.246428</td>\n",
       "    </tr>\n",
       "    <tr>\n",
       "      <th>9</th>\n",
       "      <td>10</td>\n",
       "      <td>0.782715</td>\n",
       "      <td>0.565966</td>\n",
       "      <td>0.618470</td>\n",
       "      <td>0.845362</td>\n",
       "    </tr>\n",
       "  </tbody>\n",
       "</table>\n",
       "</div>"
      ],
      "text/plain": [
       "   epoch  accuracy      loss  val_accuracy  val_loss\n",
       "0      1  0.690544  0.980291      0.172096  2.088238\n",
       "1      2  0.756470  0.680366      0.172096  3.465767\n",
       "2      3  0.764282  0.646777      0.166103  3.486965\n",
       "3      4  0.772786  0.574651      0.186847  2.857947\n",
       "4      5  0.771118  0.618614      0.193762  3.701753\n",
       "5      6  0.783997  0.586339      0.198525  3.930675\n",
       "6      7  0.773193  0.578938      0.332821  2.369895\n",
       "7      8  0.762370  0.568053      0.298248  2.094825\n",
       "8      9  0.778198  0.585015      0.518746  1.246428\n",
       "9     10  0.782715  0.565966      0.618470  0.845362"
      ]
     },
     "execution_count": 12,
     "metadata": {},
     "output_type": "execute_result"
    }
   ],
   "source": [
    "# Convert history.history dictionary to a DataFrame a\n",
    "df_history = pd.DataFrame(history.history).reset_index().rename(columns={'index': 'epoch'})\n",
    "\n",
    "# Adjust the 'epoch' column to start from 1 to represent epoch numbers accurately\n",
    "df_history['epoch'] += 1 # Since Index start at 0, we add 1 to represent epoch values.\n",
    "\n",
    "df_history\n"
   ]
  },
  {
   "cell_type": "code",
   "execution_count": 13,
   "id": "370a1f0e",
   "metadata": {},
   "outputs": [
    {
     "name": "stdout",
     "output_type": "stream",
     "text": [
      "The best performing results: \n",
      "\n",
      "Epoch : 10\n",
      "Training Accuracy : 0.7827\n",
      "Training Loss : 0.5660\n",
      "Validation Accuracy : 0.6185\n",
      "Validation Loss : 0.8454\n"
     ]
    }
   ],
   "source": [
    "# Find the record with the minimum val_loss\n",
    "min_val_loss = df_history.loc[df_history['val_loss'].idxmin()]\n",
    "\n",
    "print(\"The best performing results: \\n\")\n",
    "print(f\"Epoch : {int(min_val_loss.epoch)}\")\n",
    "print(f\"Training Accuracy : {min_val_loss.accuracy:.4f}\")\n",
    "print(f\"Training Loss : {min_val_loss.loss:.4f}\")\n",
    "print(f\"Validation Accuracy : {min_val_loss.val_accuracy:.4f}\")\n",
    "print(f\"Validation Loss : {min_val_loss.val_loss:.4f}\")\n"
   ]
  },
  {
   "cell_type": "markdown",
   "id": "d177b64e",
   "metadata": {},
   "source": [
    "## Model Evaluation on test set\n",
    "\n",
    "Evaluating the model's performance on a separate test set is necessary to ensure that the late improvement in validation performance observed with the accuracy curves translates to genuine predictive power on unseen data. <br>\n",
    "\n",
    "The model achieves a test accuracy of 61.22% which is close to the validation accuracy of 61.84%. Even though the accuracy moderate, the close performance between test and validation test confirms the model's generalization capability on new unseen data. <br>\n",
    "\n",
    "The test loss is reported to be 0.8462 compared to validation loss of 0.8454. This value represents the model's average error over the test dataset and corresponds to the loss function used during the model's training/validation phase.\n"
   ]
  },
  {
   "cell_type": "code",
   "execution_count": 14,
   "id": "c20597aa",
   "metadata": {},
   "outputs": [
    {
     "name": "stderr",
     "output_type": "stream",
     "text": [
      "/Users/jmware/.pyenv/versions/3.10.9/lib/python3.10/site-packages/keras/src/trainers/data_adapters/py_dataset_adapter.py:120: UserWarning: Your `PyDataset` class should call `super().__init__(**kwargs)` in its constructor. `**kwargs` can include `workers`, `use_multiprocessing`, `max_queue_size`. Do not pass these arguments to `fit()`, as they will be ignored.\n",
      "  self._warn_if_super_not_called()\n"
     ]
    },
    {
     "name": "stdout",
     "output_type": "stream",
     "text": [
      "\u001b[1m64/64\u001b[0m \u001b[32m━━━━━━━━━━━━━━━━━━━━\u001b[0m\u001b[37m\u001b[0m \u001b[1m349s\u001b[0m 5s/step - accuracy: 0.6144 - loss: 0.8413\n",
      "Model performance on Test Dataset : \n",
      "\n",
      "Test Accuracy : 0.6122\n",
      "Test Loss : 0.8462\n"
     ]
    }
   ],
   "source": [
    "# Let's evaluate the model on test data\n",
    "eval_result = model.evaluate(test_generator)\n",
    "print(\"Model performance on Test Dataset : \\n\")\n",
    "print(f'Test Accuracy : {eval_result[1]:.4f}')\n",
    "print(f'Test Loss : {eval_result[0]:.4f}')\n"
   ]
  },
  {
   "cell_type": "markdown",
   "id": "27898355",
   "metadata": {},
   "source": [
    "## Predict classes on test set"
   ]
  },
  {
   "cell_type": "code",
   "execution_count": 15,
   "id": "4fd7bcf5",
   "metadata": {},
   "outputs": [
    {
     "name": "stdout",
     "output_type": "stream",
     "text": [
      "\u001b[1m64/64\u001b[0m \u001b[32m━━━━━━━━━━━━━━━━━━━━\u001b[0m\u001b[37m\u001b[0m \u001b[1m349s\u001b[0m 5s/step\n"
     ]
    }
   ],
   "source": [
    "# Let's do class predictions on the test set\n",
    "test_generator.reset()  # To restart the generator from the beginning\n",
    "predictions = model.predict(test_generator, verbose=1)\n",
    "predicted_classes = np.argmax(predictions, axis=1)\n",
    "\n",
    "# Retrieve true labels\n",
    "true_classes = test_generator.classes\n",
    "class_labels = list(test_generator.class_indices.keys()) \n"
   ]
  },
  {
   "cell_type": "markdown",
   "id": "4d18b785",
   "metadata": {},
   "source": [
    "## Confusion Matrix\n",
    "\n",
    "The confusion matrix helps us to compare the actual target values with those predicted by the model. Generally, for a well-performing model, the majority of predictions are expected to be along the diagonal, indicating correct classifications. <br>\n",
    "\n",
    "Classes ASC-US, HSIL and ASC-H have the highest correct predictions, with prominent diagonal elements of **1243**, **1111** and **1023** respectively. <br>\n",
    "\n",
    "The off-diagonal numbers in the matrix reflect instances where the model has predicted the incorrect class. Majority of the classes have a considerable number of instances misclassified as Class ASC-US, with Class LSIL having the highest number of misclassifications (728 instances). This indicates a potential overlap in features or insufficiently learned representations or suggesting similarities between these classes that the model struggles to differentiate. <br>\n"
   ]
  },
  {
   "cell_type": "code",
   "execution_count": 50,
   "id": "6e93b08d",
   "metadata": {},
   "outputs": [
    {
     "data": {
      "image/png": "[encoded data removed]",
      "text/plain": [
       "<Figure size 1000x800 with 2 Axes>"
      ]
     },
     "metadata": {},
     "output_type": "display_data"
    }
   ],
   "source": [
    "# Shorten the label \"Negative for intraepithelial lesion\" to \"Negative\"\n",
    "labels_shortened = [label if label != \"Negative for intraepithelial lesion\" else \"Negative\" for label in class_labels]\n",
    "\n",
    "# Create a sorted list of  class labels based on the index values for correct label placement\n",
    "labels_sorted_by_index = sorted(test_generator.class_indices.keys(), key=lambda label: test_generator.class_indices[label])\n",
    "labels_sorted_by_index = [label if label != \"Negative for intraepithelial lesion\" else \"Negative\" for label in labels_sorted_by_index]\n",
    "\n",
    "# Visualization of confusion matrix\n",
    "plt.figure(figsize=(10, 8))\n",
    "sns.heatmap(cm, annot=True, fmt=\"d\", cmap=\"Blues\", xticklabels=labels_sorted_by_index, yticklabels=labels_sorted_by_index)\n",
    "plt.xlabel('Predicted')\n",
    "plt.ylabel('True')\n",
    "plt.title(\"Confusion Matrix\")\n",
    "plt.show()"
   ]
  },
  {
   "cell_type": "markdown",
   "id": "08430147",
   "metadata": {},
   "source": [
    "## Classification Report\n",
    "\n",
    "The per-class metrics exposed by the classification report helps to assess the model performance. <br>\n",
    "\n",
    "**Precision** indicates the accuracy of positive predictions for each class. Class HSIL and Class SCC have high precision, which means that when the model predicts these classes, it is correct most of the time. <br>\n",
    "\n",
    "**Recall** reflects the ability of the model to find all the positive samples. Class ASC-US has the highest recall, suggesting that the model is adept at identifying this class. <br>\n",
    "\n",
    "**F1-score** which is a weighted average of precision and recall, reaches its best value at 1 (perfect precision and recall) and worst at 0. Class HSIL has the highest F1-score, indicating a balanced recall and precision for this class. <br>\n"
   ]
  },
  {
   "cell_type": "code",
   "execution_count": 17,
   "id": "e865f938",
   "metadata": {},
   "outputs": [
    {
     "name": "stdout",
     "output_type": "stream",
     "text": [
      "Classification Report:\n",
      "                                     precision    recall  f1-score   support\n",
      "\n",
      "                              ASC-H       0.86      0.77      0.81      1324\n",
      "                             ASC-US       0.35      0.94      0.51      1320\n",
      "                               HSIL       0.94      0.80      0.86      1387\n",
      "                               LSIL       0.64      0.25      0.36      1389\n",
      "Negative for intraepithelial lesion       0.66      0.48      0.55      1364\n",
      "                                SCC       0.90      0.45      0.60      1351\n",
      "\n",
      "                           accuracy                           0.61      8135\n",
      "                          macro avg       0.72      0.62      0.62      8135\n",
      "                       weighted avg       0.73      0.61      0.62      8135\n",
      "\n"
     ]
    }
   ],
   "source": [
    "# Classification Report\n",
    "cr = classification_report(true_classes, predicted_classes, target_names=class_labels, zero_division=0)\n",
    "\n",
    "print(\"Classification Report:\")\n",
    "print(cr)"
   ]
  },
  {
   "cell_type": "markdown",
   "id": "6fcaa5f9",
   "metadata": {},
   "source": [
    "## Conclusion\n",
    "\n",
    "The overall accuracy of the model is 0.61, matching the test accuracy reported at the evaluation stage. <br>\n",
    "The model performs well for certain classes (e.g., Class 2), but struggles with others (Class 1, Class 3, and Class 4), which could be due to class overlap in the feature space. <br>\n",
    "\n",
    "The high recall for Class 1 may be at the cost of low precision, indicating a large number of false positives. <br>\n",
    "\n",
    "Future strategies to improve model performance could include: <br>\n",
    "- Collecting more data.\n",
    "- Feature engineering like different data augmentation techniques.\n",
    "- Using class weights to address imbalance.\n",
    "- Exploring other models to better capture the differences between classes.\n",
    "- Consider regularization techniques e.g L1/L2 regularization."
   ]
  },
  {
   "cell_type": "code",
   "execution_count": null,
   "id": "360c4edc",
   "metadata": {},
   "outputs": [],
   "source": []
  }
 ],
 "metadata": {
  "kernelspec": {
   "display_name": "Python 3 (ipykernel)",
   "language": "python",
   "name": "python3"
  },
  "language_info": {
   "codemirror_mode": {
    "name": "ipython",
    "version": 3
   },
   "file_extension": ".py",
   "mimetype": "text/x-python",
   "name": "python",
   "nbconvert_exporter": "python",
   "pygments_lexer": "ipython3",
   "version": "3.10.8"
  }
 },
 "nbformat": 4,
 "nbformat_minor": 5
}
