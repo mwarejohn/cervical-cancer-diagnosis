{
 "cells": [
  {
   "cell_type": "code",
   "execution_count": null,
   "id": "da7e43e7",
   "metadata": {},
   "outputs": [],
   "source": [
    "# pip install keras-tuner"
   ]
  },
  {
   "cell_type": "markdown",
   "id": "842acad9",
   "metadata": {},
   "source": [
    "## Essential libraries and modules.\n",
    "\n",
    "This project uses the following modules/libraries. <br>\n",
    "- Pandas for data manipulation.\n",
    "- sklearn for data splitting.\n",
    "- Several Keras modules for building and training the CNN model.\n",
    "- keras_tuner for optimizing the model's hyperparameters."
   ]
  },
  {
   "cell_type": "code",
   "execution_count": 78,
   "id": "cd65b5f0",
   "metadata": {},
   "outputs": [],
   "source": [
    "import pandas as pd\n",
    "from sklearn.model_selection import train_test_split\n",
    "from tensorflow.keras.preprocessing.image import ImageDataGenerator\n",
    "from tensorflow.keras.models import Sequential\n",
    "from tensorflow.keras.layers import Conv2D, MaxPooling2D, Flatten, Dense, Dropout\n",
    "\n",
    "from keras_tuner import HyperModel\n",
    "from tensorflow.keras.optimizers.legacy import Adam  # Use legacy Adam since we are using Mac M1/M2 - \n",
    "from keras_tuner.tuners  import RandomSearch\n",
    "from tensorflow.keras.callbacks import EarlyStopping, CSVLogger\n"
   ]
  },
  {
   "cell_type": "markdown",
   "id": "9da46516",
   "metadata": {},
   "source": [
    "## Load data\n",
    "The dataset contains classification and paths to images which is first loaded into a pandas DataFrame. <br>\n",
    "The two main columns:\n",
    "- **image_filename** For the image filenames.\n",
    "- **bethesda_system** That corresponds to image labels which are classified into 6 classes:\n",
    "    - ASC-US - Negative for intraepithelial lesion.\n",
    "    - ASC-H - Atypical squamous cells of undetermined significance.\n",
    "    - LSIL - Atypical squamous cells cannot exclude HSIL.\n",
    "    - HSIL - Low grade squamous intraepithelial lesion.\n",
    "    - SCC - High grade squamous intraepithelial lesion. <br>\n",
    "    \n",
    "Images are stored seperately in a **images** directory.\n"
   ]
  },
  {
   "cell_type": "code",
   "execution_count": 72,
   "id": "8a0ee7da",
   "metadata": {},
   "outputs": [],
   "source": [
    "# Load dataset\n",
    "data_path = 'data/classifications.csv'\n",
    "data = pd.read_csv(data_path)\n",
    "\n",
    "# Directory where images are stored\n",
    "image_dir = 'data/images/'\n"
   ]
  },
  {
   "cell_type": "markdown",
   "id": "d4cd2c29",
   "metadata": {},
   "source": [
    "## Split data\n",
    "The dataset is split into training and testing subsets using train_test_split from scikit-learn, with 20% of the data reserved for testing."
   ]
  },
  {
   "cell_type": "code",
   "execution_count": 73,
   "id": "bd9dc18a",
   "metadata": {},
   "outputs": [],
   "source": [
    "# Split the data\n",
    "train_df, test_df = train_test_split(data, test_size=0.2, random_state=42)\n"
   ]
  },
  {
   "cell_type": "markdown",
   "id": "36caf866",
   "metadata": {},
   "source": [
    "## Data preprocessing and Augmentation\n",
    "\n",
    "The first step is to prepare the image data for training through normalization, rescaling, and augmentation of these images from image files on disk. <br>\n",
    "This approach is memory efficient as it dynamically loads and processes images in batches during training, rather than loading the entire dataset into memory at once. <br>\n",
    "This step is broken down into the following:\n",
    "\n",
    "**1. Rescaling the Pixel Values:** Training, Validation and Testing images are rescaled by 1./255, converting the pixel values from the range [0, 255] to [0, 1]. This normalization step helps in speeding up the training process and reaching convergence faster. <br>\n",
    "\n",
    "**2. Split the Training Data:** The training data is further partitioned into training and validation subsets using a **validation_split of 0.2**. <br>\n",
    "This 20% validation dataset is essential for evaluating the model's performance on unseen data during training without touching the test set. <br>\n",
    "\n",
    "**3. Data Generators:** We use the **flow_from_dataframe** method to load images directly from a pandas DataFrame. The image filenames and corresponding labels are stored in a DataFrame, while the image files are stored in filesystem directories. This step allows for easy integration with the model training process. <br>\n",
    "\n",
    "The overall goal of this section is to set up an efficient pipeline for feeding image data into the CNN model. This helps to achieve the following objectives: <br>\n",
    "- Dynamically loading and preprocessing image data from disk to reduce memory usage.\n",
    "- Normalizing image pixel values to aid in model training.\n",
    "- Partitioning the training data into training and validation subsets for model validation.\n",
    "- Ensuring that the model can be evaluated on unseen test data."
   ]
  },
  {
   "cell_type": "code",
   "execution_count": 74,
   "id": "1fddae71",
   "metadata": {},
   "outputs": [
    {
     "name": "stdout",
     "output_type": "stream",
     "text": [
      "Found 7382 validated image filenames belonging to 6 classes.\n",
      "Found 1845 validated image filenames belonging to 6 classes.\n",
      "Found 2307 validated image filenames belonging to 6 classes.\n"
     ]
    }
   ],
   "source": [
    "# Initialize ImageDataGenerators\n",
    "train_datagen = ImageDataGenerator(rescale=1./255, validation_split=0.2)\n",
    "test_datagen = ImageDataGenerator(rescale=1./255)\n",
    "\n",
    "\n",
    "# Training generator\n",
    "train_generator = train_datagen.flow_from_dataframe(\n",
    "    dataframe=train_df,\n",
    "    directory=image_dir,\n",
    "    x_col='image_filename',\n",
    "    y_col='bethesda_system',\n",
    "    target_size=(150, 150),\n",
    "    batch_size=32,\n",
    "    class_mode='categorical',\n",
    "    subset='training'\n",
    ")\n",
    "\n",
    "# Validation generator\n",
    "validation_generator = train_datagen.flow_from_dataframe(\n",
    "    dataframe=train_df,\n",
    "    directory=image_dir,\n",
    "    x_col='image_filename',\n",
    "    y_col='bethesda_system',\n",
    "    target_size=(150, 150),\n",
    "    batch_size=32,\n",
    "    class_mode='categorical',\n",
    "    subset='validation'\n",
    ")\n",
    "\n",
    "# Test generator\n",
    "test_generator = test_datagen.flow_from_dataframe(\n",
    "    dataframe=test_df,\n",
    "    directory=image_dir,\n",
    "    x_col='image_filename',\n",
    "    y_col='bethesda_system',\n",
    "    target_size=(150, 150),\n",
    "    batch_size=32,\n",
    "    class_mode='categorical',\n",
    "    shuffle=False  # Important for evaluation: the data should not be shuffled.\n",
    ")"
   ]
  },
  {
   "cell_type": "markdown",
   "id": "2f562d48",
   "metadata": {},
   "source": [
    "## Defining CNN Model\n",
    "The **CNNHyperModel** class is designed for hyperparameter tuning of a Convolutional Neural Network (CNN) model using Keras Tuner. It inherits from **HyperModel** Keras Tuner base class to define the hyperparameters to be optimized. <br>\n",
    "\n",
    "**input_shape:** The shape of the input images which is crucial for the first layer of the CNN to know the input shape it will be receiving. <br>\n",
    "**num_classes:** The number of output classes which is required by the output layer and maps to the probability distribution across the classes.<br>\n",
    "**build Method:** The method builds the CNN model with a flexible architecture based on hyperparameters selected during the tuning process. <br>\n",
    "\n",
    "### Model Architecture\n",
    "**1. Convolutional Layers** The has two convolutional layers (Conv2D) of 32 and 64 filters, respectively. Each layer uses a 3x3 kernel. The activation function for these layers is chosen from ['relu', 'tanh', 'sigmoid'] based on the tuning process. <br>\n",
    "\n",
    "**2. Pooling Layers** Each convolutional layer has a max pooling layer (MaxPooling2D) with a pool size of 2x2. This helps reduce the spatial dimensions of the output from the preceding convolutional layer, reducing the number of parameters and computation in the network, and also helps to control overfitting. <br>\n",
    "**3. Flattening** The Flatten layer transforms the 2D matrix data to a vector. This allows the output from convolutional and pooling layers to be fed into dense layers. <br>\n",
    "**4. Dense Layer** A dense layer with 512 units is added, serving as a fully connected layer that learns global patterns in the spatial hierarchy of the features extracted by the preceding layers. <br>\n",
    "**5. Dropout** A Dropout layer with a rate of 0.5 is used to prevent overfitting. It randomly sets input units to 0 at each update during training time, which helps to prevent overfitting by making the learning process noisy. <br>\n",
    "**6. Output Layer** The final layer is a dense layer with a number of units equal to the number of classes. It uses the softmax activation function to output the probability distribution over the classes. <br>\n",
    "\n",
    "### Compilation\n",
    "The model is compiled with the Adam optimizer, where the learning rate is tuned between 0.0001 and 0.01 with logarithmic sampling. This ensures that the learning rate values are chosen in a way that evenly spaces their logarithms within this range. <br>\n",
    "\n",
    "The **categorical_crossentropy** is suitable for multi-class classification tasks. <br>\n",
    "The **accuracy** metric used to evaluate the model. "
   ]
  },
  {
   "cell_type": "code",
   "execution_count": 76,
   "id": "604a9b77",
   "metadata": {},
   "outputs": [],
   "source": [
    "class CNNHyperModel(HyperModel):\n",
    "    def __init__(self, input_shape, num_classes):\n",
    "        self.input_shape = input_shape\n",
    "        self.num_classes = num_classes\n",
    "    \n",
    "    def build(self, hp):\n",
    "        model = Sequential()\n",
    "        model.add(Conv2D(filters=32, kernel_size=(3, 3), activation=hp.Choice('activation', ['relu', 'tanh', 'sigmoid']),\n",
    "                         input_shape=self.input_shape))\n",
    "        model.add(MaxPooling2D(pool_size=(2, 2)))\n",
    "        model.add(Conv2D(filters=64, kernel_size=(3, 3), activation=hp.Choice('activation', ['relu', 'tanh', 'sigmoid'])))\n",
    "        model.add(MaxPooling2D(pool_size=(2, 2)))\n",
    "        model.add(Flatten())\n",
    "        model.add(Dense(units=512, activation=hp.Choice('activation', ['relu', 'tanh', 'sigmoid'])))\n",
    "        model.add(Dropout(rate=0.5))\n",
    "        model.add(Dense(self.num_classes, activation='softmax'))\n",
    "        \n",
    "        # Compile model\n",
    "        model.compile(\n",
    "            optimizer=Adam(hp.Float('learning_rate', min_value=1e-4, max_value=1e-2, sampling='LOG')),\n",
    "            loss='categorical_crossentropy',\n",
    "            metrics=['accuracy']\n",
    "        )\n",
    "        \n",
    "        return model"
   ]
  },
  {
   "cell_type": "markdown",
   "id": "71f02bde",
   "metadata": {},
   "source": [
    "## Hyperparameters tuning\n",
    "\n",
    "This section helps to define, initialize, and execute the hyperparameter tuning process. <br>\n",
    "The first two variables:<br> \n",
    "### Variables Definition\n",
    "**1. max_trial = 2** Specifies the maximum number of different hyperparameter configurations to try during the tuning process. <br>\n",
    "**2. epoch = 5:** The number of times the model will iterate over the entire training dataset during the training process for each trial.<br>\n",
    "\n",
    "### Hypermodel Definition\n",
    "**CNNHyperModel** is initialized by specifying the input shape of the images (150x150 pixels with 3 channels for RGB) and the number of classes to predict. The number of classes is dynamically set based on the training data. <br>\n",
    "\n",
    "### Tuner Initialization\n",
    "The RandomSearch tuner is instantiated with several parameters:\n",
    "**1. hypermodel:** The model to be tuned.\n",
    "**2. objective='val_accuracy':** The tuner will aim to maximize and optimize the validation accuracy.<br>\n",
    "**3. max_trials=max_trial:** The maximum number of trials to run, specified by the max_trial variable. <br>\n",
    "**4. executions_per_trial=1:** Each model configuration is training these number of times (in this case we trained each model once).<br>\n",
    "**5. directory='hyperparam_tuning':** The directory where the tuning results will be stored.\n",
    "**6. project_name='cervix_classification':** The name of the tuning project that helps in organizing and retrieving the tuning results.\n",
    "\n",
    "### Early Stopping Callback\n",
    "\n",
    "The **EarlyStopping callback** helps to prevent overfitting. Training will stop if the validation loss does not improve for five epochs, helping to save time and computational resources. You can always change the number of epochs to suit your model.\n",
    "\n",
    "### Hyperparameter Tuning Execution\n",
    "\n",
    "The **tuner.search(...)** executes the tuning process by training the model with the training data and evaluating it using the validation datafor a specified number of epochs. The search method automatically tests different hyperparameter configurations based on the definitions in the CNNHyperModel class. <br>\n",
    "\n",
    "### Fetching and Displaying Best Hyperparameters\n",
    "We use the **tuner.get_best_hyperparameters(num_trials=1)[0]** to retrieve the best set of hyperparameters after the tuning process completes. <br>\n",
    "\n",
    "This section takes care of the hyperparameter tuning process, from the definition of hypermodel parameters and the tuning strategy to the execution of the search and the presentation of the best results.\n"
   ]
  },
  {
   "cell_type": "code",
   "execution_count": 79,
   "id": "f5044987",
   "metadata": {},
   "outputs": [
    {
     "name": "stdout",
     "output_type": "stream",
     "text": [
      "Trial 2 Complete [00h 36m 51s]\n",
      "val_accuracy: 0.578319787979126\n",
      "\n",
      "Best val_accuracy So Far: 0.578319787979126\n",
      "Total elapsed time: 01h 13m 34s\n",
      "Best Hyperparameters : \n",
      "\n",
      "activation: sigmoid\n",
      "learning_rate: 0.003256343224504914\n"
     ]
    }
   ],
   "source": [
    "# Variables \n",
    "max_trial = 2\n",
    "epoch = 5\n",
    "# Define the hypermodel\n",
    "hypermodel = CNNHyperModel(input_shape=(150, 150, 3), num_classes=len(train_generator.class_indices))\n",
    "\n",
    "# Initialize the tuner\n",
    "tuner = RandomSearch(\n",
    "    hypermodel,\n",
    "    objective='val_accuracy',\n",
    "    max_trials=max_trial,\n",
    "    executions_per_trial=1,\n",
    "    directory='hyperparam_tuning',\n",
    "    project_name='cervix_classification'\n",
    ")\n",
    "\n",
    "# Early stopping to prevent overfitting\n",
    "early_stopping = EarlyStopping(monitor='val_loss', patience=5, verbose=1)\n",
    "\n",
    "# Perform hyperparameter tuning\n",
    "tuner.search(train_generator, \n",
    "             epochs=epoch, \n",
    "             validation_data=validation_generator)\n",
    "\n",
    "# Fetch the best performing hyperparameters\n",
    "best_hps = tuner.get_best_hyperparameters(num_trials=1)[0]\n",
    "\n",
    "# Display the hyperparameter values\n",
    "print(\"Best Hyperparameters : \\n\")\n",
    "for hp in best_hps.space:\n",
    "    print(f\"{hp.name}: {best_hps.get(hp.name)}\")\n",
    "\n"
   ]
  },
  {
   "cell_type": "markdown",
   "id": "1b57ce4d",
   "metadata": {},
   "source": [
    "## Training the Best Model \n",
    "After hyperparameter tuning, the best hyperparameters are applied to rebuild the optimal model. <br>\n",
    "This model is then trained on the full training set, including both training and validation subsets, for a specified number of epochs."
   ]
  },
  {
   "cell_type": "code",
   "execution_count": 80,
   "id": "ec678b28",
   "metadata": {},
   "outputs": [
    {
     "name": "stdout",
     "output_type": "stream",
     "text": [
      "Epoch 1/5\n",
      "231/231 [==============================] - 442s 2s/step - loss: 1.5379 - accuracy: 0.5374 - val_loss: 1.4837 - val_accuracy: 0.5783\n",
      "Epoch 2/5\n",
      "231/231 [==============================] - 440s 2s/step - loss: 1.3570 - accuracy: 0.5761 - val_loss: 1.3223 - val_accuracy: 0.5783\n",
      "Epoch 3/5\n",
      "231/231 [==============================] - 441s 2s/step - loss: 1.3381 - accuracy: 0.5853 - val_loss: 1.3278 - val_accuracy: 0.5783\n",
      "Epoch 4/5\n",
      "231/231 [==============================] - 437s 2s/step - loss: 1.3357 - accuracy: 0.5824 - val_loss: 1.3167 - val_accuracy: 0.5783\n",
      "Epoch 5/5\n",
      "231/231 [==============================] - 447s 2s/step - loss: 1.3325 - accuracy: 0.5845 - val_loss: 1.3011 - val_accuracy: 0.5783\n"
     ]
    }
   ],
   "source": [
    "# Build the model with the optimal hyperparameters and train it on the data for given epochs\n",
    "model = tuner.hypermodel.build(best_hps)\n",
    "history = model.fit(train_generator, epochs=epoch, validation_data=validation_generator)\n"
   ]
  },
  {
   "cell_type": "markdown",
   "id": "21c51095",
   "metadata": {},
   "source": [
    "## Loss Curves"
   ]
  },
  {
   "cell_type": "code",
   "execution_count": 81,
   "id": "9bb6d62b",
   "metadata": {},
   "outputs": [
    {
     "data": {
      "image/png": "[encoded data removed]",
      "text/plain": [
       "<Figure size 1200x600 with 2 Axes>"
      ]
     },
     "metadata": {},
     "output_type": "display_data"
    }
   ],
   "source": [
    "# Plot the loss curves\n",
    "plt.figure(figsize=(12, 6))\n",
    "\n",
    "# Plot training and validation accuracy\n",
    "plt.subplot(1, 2, 1)\n",
    "plt.plot(history.history['accuracy'], label='Training Accuracy')\n",
    "plt.plot(history.history['val_accuracy'], label='Validation Accuracy')\n",
    "plt.title('Training and Validation Accuracy')\n",
    "plt.xlabel('Epochs')\n",
    "plt.ylabel('Accuracy')\n",
    "plt.legend()\n",
    "\n",
    "# Plot training and validation loss\n",
    "plt.subplot(1, 2, 2)\n",
    "plt.plot(history.history['loss'], label='Training Loss')\n",
    "plt.plot(history.history['val_loss'], label='Validation Loss')\n",
    "plt.title('Training and Validation Loss')\n",
    "plt.xlabel('Epochs')\n",
    "plt.ylabel('Loss')\n",
    "plt.legend()\n",
    "\n",
    "plt.tight_layout()\n",
    "plt.show()"
   ]
  },
  {
   "cell_type": "markdown",
   "id": "d532ced4",
   "metadata": {},
   "source": [
    "The **history.history** dictionary contains training/validation results. <br>\n",
    "We create a DataFrame to display the results. <br>\n"
   ]
  },
  {
   "cell_type": "code",
   "execution_count": 82,
   "id": "c6e47def",
   "metadata": {},
   "outputs": [
    {
     "data": {
      "text/html": [
       "<div>\n",
       "<style scoped>\n",
       "    .dataframe tbody tr th:only-of-type {\n",
       "        vertical-align: middle;\n",
       "    }\n",
       "\n",
       "    .dataframe tbody tr th {\n",
       "        vertical-align: top;\n",
       "    }\n",
       "\n",
       "    .dataframe thead th {\n",
       "        text-align: right;\n",
       "    }\n",
       "</style>\n",
       "<table border=\"1\" class=\"dataframe\">\n",
       "  <thead>\n",
       "    <tr style=\"text-align: right;\">\n",
       "      <th></th>\n",
       "      <th>epoch</th>\n",
       "      <th>loss</th>\n",
       "      <th>accuracy</th>\n",
       "      <th>val_loss</th>\n",
       "      <th>val_accuracy</th>\n",
       "    </tr>\n",
       "  </thead>\n",
       "  <tbody>\n",
       "    <tr>\n",
       "      <th>0</th>\n",
       "      <td>1</td>\n",
       "      <td>1.537919</td>\n",
       "      <td>0.537388</td>\n",
       "      <td>1.483707</td>\n",
       "      <td>0.57832</td>\n",
       "    </tr>\n",
       "    <tr>\n",
       "      <th>1</th>\n",
       "      <td>2</td>\n",
       "      <td>1.356987</td>\n",
       "      <td>0.576131</td>\n",
       "      <td>1.322262</td>\n",
       "      <td>0.57832</td>\n",
       "    </tr>\n",
       "    <tr>\n",
       "      <th>2</th>\n",
       "      <td>3</td>\n",
       "      <td>1.338088</td>\n",
       "      <td>0.585343</td>\n",
       "      <td>1.327804</td>\n",
       "      <td>0.57832</td>\n",
       "    </tr>\n",
       "    <tr>\n",
       "      <th>3</th>\n",
       "      <td>4</td>\n",
       "      <td>1.335685</td>\n",
       "      <td>0.582363</td>\n",
       "      <td>1.316722</td>\n",
       "      <td>0.57832</td>\n",
       "    </tr>\n",
       "    <tr>\n",
       "      <th>4</th>\n",
       "      <td>5</td>\n",
       "      <td>1.332479</td>\n",
       "      <td>0.584530</td>\n",
       "      <td>1.301057</td>\n",
       "      <td>0.57832</td>\n",
       "    </tr>\n",
       "  </tbody>\n",
       "</table>\n",
       "</div>"
      ],
      "text/plain": [
       "   epoch      loss  accuracy  val_loss  val_accuracy\n",
       "0      1  1.537919  0.537388  1.483707       0.57832\n",
       "1      2  1.356987  0.576131  1.322262       0.57832\n",
       "2      3  1.338088  0.585343  1.327804       0.57832\n",
       "3      4  1.335685  0.582363  1.316722       0.57832\n",
       "4      5  1.332479  0.584530  1.301057       0.57832"
      ]
     },
     "execution_count": 82,
     "metadata": {},
     "output_type": "execute_result"
    }
   ],
   "source": [
    "# Convert history.history dictionary to a DataFrame a\n",
    "df_history_with = pd.DataFrame(history.history).reset_index().rename(columns={'index': 'epoch'})\n",
    "\n",
    "df_history_with['epoch'] += 1 # Since Index start at 0, we add 1 to represent epoch values.\n",
    "\n",
    "df_history_with\n"
   ]
  },
  {
   "cell_type": "code",
   "execution_count": 83,
   "id": "370a1f0e",
   "metadata": {},
   "outputs": [
    {
     "name": "stdout",
     "output_type": "stream",
     "text": [
      "The best performing results: \n",
      "\n",
      "Epoch : 4\n",
      "Training Accuracy : 0.5719\n",
      "Training Loss : 1.3811\n",
      "Validation Accuracy : 0.5783\n",
      "Validation Loss : 1.3040\n"
     ]
    }
   ],
   "source": [
    "# Find the record with the minimum val_loss\n",
    "min_val_loss = df_history_with_epoch.loc[df_history_with_epoch['val_loss'].idxmin()]\n",
    "\n",
    "print(\"The best performing results: \\n\")\n",
    "print(f\"Epoch : {int(min_val_loss.epoch)}\")\n",
    "print(f\"Training Accuracy : {min_val_loss.accuracy:.4f}\")\n",
    "print(f\"Training Loss : {min_val_loss.loss:.4f}\")\n",
    "print(f\"Validation Accuracy : {min_val_loss.val_accuracy:.4f}\")\n",
    "print(f\"Validation Loss : {min_val_loss.val_loss:.4f}\")\n"
   ]
  },
  {
   "cell_type": "markdown",
   "id": "d177b64e",
   "metadata": {},
   "source": [
    "## Model Evaluation on Test data\n",
    "Finally we evaluate the model on the unseen test data to measure its performance, specifically looking at accuracy and loss metrics."
   ]
  },
  {
   "cell_type": "code",
   "execution_count": 84,
   "id": "7e4934ca",
   "metadata": {},
   "outputs": [
    {
     "name": "stdout",
     "output_type": "stream",
     "text": [
      "73/73 [==============================] - 103s 1s/step - loss: 1.2799 - accuracy: 0.5878\n",
      "Model performance on Test Dataset : \n",
      "\n",
      "Test Accuracy : 0.5878\n",
      "Test loss : 1.2799\n"
     ]
    }
   ],
   "source": [
    "# Evaluate the model on test data\n",
    "eval_result = model.evaluate(test_generator)\n",
    "\n",
    "print(\"Model performance on Test Dataset : \\n\")\n",
    "print(f'Test Accuracy : {eval_result[1]:.4f}')\n",
    "print(f'Test loss : {eval_result[0]:.4f}')\n"
   ]
  },
  {
   "cell_type": "code",
   "execution_count": null,
   "id": "04c4c206",
   "metadata": {},
   "outputs": [],
   "source": []
  }
 ],
 "metadata": {
  "kernelspec": {
   "display_name": "Python 3 (ipykernel)",
   "language": "python",
   "name": "python3"
  },
  "language_info": {
   "codemirror_mode": {
    "name": "ipython",
    "version": 3
   },
   "file_extension": ".py",
   "mimetype": "text/x-python",
   "name": "python",
   "nbconvert_exporter": "python",
   "pygments_lexer": "ipython3",
   "version": "3.10.8"
  }
 },
 "nbformat": 4,
 "nbformat_minor": 5
}
